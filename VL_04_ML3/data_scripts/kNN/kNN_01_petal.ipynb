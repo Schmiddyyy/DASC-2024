{
 "cells": [
  {
   "cell_type": "markdown",
   "id": "5dc9eeb2-c5be-40c3-bd0e-4466abda8f99",
   "metadata": {},
   "source": [
    "# Statistische Modelle - Beispiel 4: k-Nearest Neighbors\n",
    "\n",
    "## Einlesen der notwendigen Bibliotheken\n",
    "Quelle: https://scikit-learn.org/stable/auto_examples/neighbors/"
   ]
  },
  {
   "cell_type": "code",
   "execution_count": 1,
   "id": "bb8460e6-b51d-4e0c-a599-c14256f8506c",
   "metadata": {},
   "outputs": [],
   "source": [
    "import pandas as pd\n",
    "import matplotlib.pyplot as plt\n",
    "import numpy as np\n",
    "import seaborn as sns\n",
    "from matplotlib.colors import ListedColormap\n",
    "\n",
    "from sklearn import datasets, neighbors\n",
    "from sklearn.inspection import DecisionBoundaryDisplay\n"
   ]
  },
  {
   "cell_type": "code",
   "execution_count": 2,
   "id": "2377a1d8-0fae-4914-9f51-75bda520f9b3",
   "metadata": {},
   "outputs": [
    {
     "data": {
      "text/html": [
       "<div>\n",
       "<style scoped>\n",
       "    .dataframe tbody tr th:only-of-type {\n",
       "        vertical-align: middle;\n",
       "    }\n",
       "\n",
       "    .dataframe tbody tr th {\n",
       "        vertical-align: top;\n",
       "    }\n",
       "\n",
       "    .dataframe thead th {\n",
       "        text-align: right;\n",
       "    }\n",
       "</style>\n",
       "<table border=\"1\" class=\"dataframe\">\n",
       "  <thead>\n",
       "    <tr style=\"text-align: right;\">\n",
       "      <th></th>\n",
       "      <th>sepal_length</th>\n",
       "      <th>sepal_width</th>\n",
       "      <th>petal_length</th>\n",
       "      <th>petal_width</th>\n",
       "      <th>sort</th>\n",
       "    </tr>\n",
       "  </thead>\n",
       "  <tbody>\n",
       "    <tr>\n",
       "      <th>0</th>\n",
       "      <td>5.1</td>\n",
       "      <td>3.5</td>\n",
       "      <td>1.4</td>\n",
       "      <td>0.2</td>\n",
       "      <td>Iris-setosa</td>\n",
       "    </tr>\n",
       "    <tr>\n",
       "      <th>1</th>\n",
       "      <td>4.9</td>\n",
       "      <td>3.0</td>\n",
       "      <td>1.4</td>\n",
       "      <td>0.2</td>\n",
       "      <td>Iris-setosa</td>\n",
       "    </tr>\n",
       "    <tr>\n",
       "      <th>2</th>\n",
       "      <td>4.7</td>\n",
       "      <td>3.2</td>\n",
       "      <td>1.3</td>\n",
       "      <td>0.2</td>\n",
       "      <td>Iris-setosa</td>\n",
       "    </tr>\n",
       "    <tr>\n",
       "      <th>3</th>\n",
       "      <td>4.6</td>\n",
       "      <td>3.1</td>\n",
       "      <td>1.5</td>\n",
       "      <td>0.2</td>\n",
       "      <td>Iris-setosa</td>\n",
       "    </tr>\n",
       "    <tr>\n",
       "      <th>4</th>\n",
       "      <td>5.0</td>\n",
       "      <td>3.6</td>\n",
       "      <td>1.4</td>\n",
       "      <td>0.2</td>\n",
       "      <td>Iris-setosa</td>\n",
       "    </tr>\n",
       "  </tbody>\n",
       "</table>\n",
       "</div>"
      ],
      "text/plain": [
       "   sepal_length  sepal_width  petal_length  petal_width         sort\n",
       "0           5.1          3.5           1.4          0.2  Iris-setosa\n",
       "1           4.9          3.0           1.4          0.2  Iris-setosa\n",
       "2           4.7          3.2           1.3          0.2  Iris-setosa\n",
       "3           4.6          3.1           1.5          0.2  Iris-setosa\n",
       "4           5.0          3.6           1.4          0.2  Iris-setosa"
      ]
     },
     "execution_count": 2,
     "metadata": {},
     "output_type": "execute_result"
    }
   ],
   "source": [
    "# importieren des IRIS-Datensatzes\n",
    "iris = pd.read_csv('irisdata.csv')\n",
    "iris.head()"
   ]
  },
  {
   "cell_type": "code",
   "execution_count": 3,
   "id": "8755d3b6-132c-4ab2-b74d-0fc2e79941cb",
   "metadata": {},
   "outputs": [
    {
     "data": {
      "text/plain": [
       "(150, 5)"
      ]
     },
     "execution_count": 3,
     "metadata": {},
     "output_type": "execute_result"
    }
   ],
   "source": [
    "iris.shape"
   ]
  },
  {
   "cell_type": "markdown",
   "id": "d87f579b-a366-4e3d-a24a-9ebb2c80193c",
   "metadata": {},
   "source": [
    "## Metadaten:\n",
    "Der berühmte Iris-Datensatz:\n",
    "Der Datensatz besteht aus jeweils 50 Messungen von drei Arten der Pflanze Iris (Iris setosa, Iris virginica and Iris versicolor). Es wurden jeweils die 4 Merkmale vermessen: Länge und Breite der Kelchblätter sowie Länge und Breite der Kronblätter (jeweils in cm). Basierend auf der Kombination der vier Grundmerkmale entwickelte Fischer (1936) eine Möglichkeit, diese Arten voneinander zu unterscheiden. Dieser Datensatz ist ein grundlegender Trainingsdatensatz für verschiedene ML-Anwendungen.\n",
    "Quellen: \n",
    "* R. A. Fisher (1936). \"The use of multiple measurements in taxonomic problems\". Annals of Eugenics. 7 (2): 179–188. doi:10.1111/j.1469-1809.1936.tb02137.x. hdl:2440/15227\n",
    "* https://en.wikipedia.org/wiki/Iris_flower_data_set"
   ]
  },
  {
   "cell_type": "code",
   "execution_count": 4,
   "id": "24269f22-b06d-40cd-b2a0-54fbfa0ec28c",
   "metadata": {},
   "outputs": [
    {
     "data": {
      "text/html": [
       "<div>\n",
       "<style scoped>\n",
       "    .dataframe tbody tr th:only-of-type {\n",
       "        vertical-align: middle;\n",
       "    }\n",
       "\n",
       "    .dataframe tbody tr th {\n",
       "        vertical-align: top;\n",
       "    }\n",
       "\n",
       "    .dataframe thead th {\n",
       "        text-align: right;\n",
       "    }\n",
       "</style>\n",
       "<table border=\"1\" class=\"dataframe\">\n",
       "  <thead>\n",
       "    <tr style=\"text-align: right;\">\n",
       "      <th></th>\n",
       "      <th>petal_length</th>\n",
       "      <th>petal_width</th>\n",
       "      <th>sort</th>\n",
       "    </tr>\n",
       "  </thead>\n",
       "  <tbody>\n",
       "    <tr>\n",
       "      <th>0</th>\n",
       "      <td>1.4</td>\n",
       "      <td>0.2</td>\n",
       "      <td>Iris-setosa</td>\n",
       "    </tr>\n",
       "    <tr>\n",
       "      <th>1</th>\n",
       "      <td>1.4</td>\n",
       "      <td>0.2</td>\n",
       "      <td>Iris-setosa</td>\n",
       "    </tr>\n",
       "    <tr>\n",
       "      <th>2</th>\n",
       "      <td>1.3</td>\n",
       "      <td>0.2</td>\n",
       "      <td>Iris-setosa</td>\n",
       "    </tr>\n",
       "    <tr>\n",
       "      <th>3</th>\n",
       "      <td>1.5</td>\n",
       "      <td>0.2</td>\n",
       "      <td>Iris-setosa</td>\n",
       "    </tr>\n",
       "    <tr>\n",
       "      <th>4</th>\n",
       "      <td>1.4</td>\n",
       "      <td>0.2</td>\n",
       "      <td>Iris-setosa</td>\n",
       "    </tr>\n",
       "  </tbody>\n",
       "</table>\n",
       "</div>"
      ],
      "text/plain": [
       "   petal_length  petal_width         sort\n",
       "0           1.4          0.2  Iris-setosa\n",
       "1           1.4          0.2  Iris-setosa\n",
       "2           1.3          0.2  Iris-setosa\n",
       "3           1.5          0.2  Iris-setosa\n",
       "4           1.4          0.2  Iris-setosa"
      ]
     },
     "execution_count": 4,
     "metadata": {},
     "output_type": "execute_result"
    }
   ],
   "source": [
    "# Teildatensatz, für Beispiel nur Kronblätter betrachten\n",
    "iris_lr = iris[['petal_length', 'petal_width', 'sort']]\n",
    "iris_lr.head()"
   ]
  },
  {
   "cell_type": "code",
   "execution_count": 5,
   "id": "10cf3f80-2c28-4e42-a790-2fa5c550c275",
   "metadata": {},
   "outputs": [],
   "source": [
    "cmap_light = ListedColormap([\"lightgreen\", \"cyan\", \"cornflowerblue\"])\n",
    "cmap_bold = [\"green\", \"c\", \"darkblue\"]"
   ]
  },
  {
   "cell_type": "markdown",
   "id": "43a6e6f1-2a51-4663-81f3-c864e6d24edf",
   "metadata": {},
   "source": [
    "## Modell: kNN"
   ]
  },
  {
   "cell_type": "code",
   "execution_count": 6,
   "id": "1d098916-16d3-4978-ba05-a42887a3fcce",
   "metadata": {},
   "outputs": [],
   "source": [
    "# Festlegen der Variablen X und y\n",
    "y = iris_lr.pop('sort')\n",
    "X = iris_lr"
   ]
  },
  {
   "cell_type": "code",
   "execution_count": 7,
   "id": "39b5ccad-6afc-4a3f-b93a-4f35ed7b9535",
   "metadata": {},
   "outputs": [
    {
     "data": {
      "image/png": "[encoded data removed]",
      "text/plain": [
       "<Figure size 432x288 with 1 Axes>"
      ]
     },
     "metadata": {},
     "output_type": "display_data"
    }
   ],
   "source": [
    "# Verschiedene Einstellungen für Wichtungen der Daten in unterschiedlichen Abständen betrachten \n",
    "# weights in [\"uniform\", \"distance\"]\n",
    "# Anzahl der nächsten Nachbarn (k)\n",
    "weights = 'distance'\n",
    "n_neighbors = 9\n",
    "clf = neighbors.KNeighborsClassifier(n_neighbors, weights=weights)\n",
    "clf.fit(X, y)\n",
    "\n",
    "_, ax = plt.subplots()\n",
    "DecisionBoundaryDisplay.from_estimator(clf, X, cmap=cmap_light,\n",
    "        ax=ax, response_method=\"predict\", plot_method=\"pcolormesh\",\n",
    "        xlabel='petal length (cm)', ylabel='petal width (cm)',\n",
    "        shading=\"auto\")\n",
    "\n",
    "sns.scatterplot(x=iris_lr[\"petal_length\"],\n",
    "        y=iris_lr[\"petal_width\"],\n",
    "        hue=iris['sort'],\n",
    "        palette=cmap_bold,\n",
    "        alpha=1.0,\n",
    "        edgecolor=\"black\")\n",
    "plt.title(\"3-Klassen Klassifikation (k = %i, weights = '%s')\" % (n_neighbors, weights))\n",
    "plt.show()"
   ]
  },
  {
   "cell_type": "markdown",
   "id": "4dcc6e70-edf4-4de5-a3be-2ac7a812d789",
   "metadata": {},
   "source": [
    "## Modell Validierung"
   ]
  },
  {
   "cell_type": "code",
   "execution_count": 8,
   "id": "236a97c4-02ec-42ca-bc4d-a8ac68889f01",
   "metadata": {},
   "outputs": [
    {
     "data": {
      "text/html": [
       "<div>\n",
       "<style scoped>\n",
       "    .dataframe tbody tr th:only-of-type {\n",
       "        vertical-align: middle;\n",
       "    }\n",
       "\n",
       "    .dataframe tbody tr th {\n",
       "        vertical-align: top;\n",
       "    }\n",
       "\n",
       "    .dataframe thead th {\n",
       "        text-align: right;\n",
       "    }\n",
       "</style>\n",
       "<table border=\"1\" class=\"dataframe\">\n",
       "  <thead>\n",
       "    <tr style=\"text-align: right;\">\n",
       "      <th>Predicted</th>\n",
       "      <th>Iris-setosa</th>\n",
       "      <th>Iris-versicolor</th>\n",
       "      <th>Iris-virginica</th>\n",
       "      <th>All</th>\n",
       "    </tr>\n",
       "    <tr>\n",
       "      <th>True</th>\n",
       "      <th></th>\n",
       "      <th></th>\n",
       "      <th></th>\n",
       "      <th></th>\n",
       "    </tr>\n",
       "  </thead>\n",
       "  <tbody>\n",
       "    <tr>\n",
       "      <th>Iris-setosa</th>\n",
       "      <td>50</td>\n",
       "      <td>0</td>\n",
       "      <td>0</td>\n",
       "      <td>50</td>\n",
       "    </tr>\n",
       "    <tr>\n",
       "      <th>Iris-versicolor</th>\n",
       "      <td>0</td>\n",
       "      <td>49</td>\n",
       "      <td>1</td>\n",
       "      <td>50</td>\n",
       "    </tr>\n",
       "    <tr>\n",
       "      <th>Iris-virginica</th>\n",
       "      <td>0</td>\n",
       "      <td>0</td>\n",
       "      <td>50</td>\n",
       "      <td>50</td>\n",
       "    </tr>\n",
       "    <tr>\n",
       "      <th>All</th>\n",
       "      <td>50</td>\n",
       "      <td>49</td>\n",
       "      <td>51</td>\n",
       "      <td>150</td>\n",
       "    </tr>\n",
       "  </tbody>\n",
       "</table>\n",
       "</div>"
      ],
      "text/plain": [
       "Predicted        Iris-setosa  Iris-versicolor  Iris-virginica  All\n",
       "True                                                              \n",
       "Iris-setosa               50                0               0   50\n",
       "Iris-versicolor            0               49               1   50\n",
       "Iris-virginica             0                0              50   50\n",
       "All                       50               49              51  150"
      ]
     },
     "execution_count": 8,
     "metadata": {},
     "output_type": "execute_result"
    }
   ],
   "source": [
    "y_pred = clf.predict(X)\n",
    "from sklearn.metrics import confusion_matrix\n",
    "cm=confusion_matrix(y,y_pred)\n",
    "pd.crosstab(y, y_pred, rownames=['True'], colnames=['Predicted'], margins=True)"
   ]
  },
  {
   "cell_type": "code",
   "execution_count": 9,
   "id": "ebd3c615-869f-4d88-ab46-7e71f5b40a44",
   "metadata": {},
   "outputs": [
    {
     "name": "stdout",
     "output_type": "stream",
     "text": [
      "Erreichte Modellgenauigkeit für den Trainingsadtensatz: 0.9933\n"
     ]
    }
   ],
   "source": [
    "from sklearn.metrics import accuracy_score\n",
    "\n",
    "print('Erreichte Modellgenauigkeit für den Trainingsadtensatz: {0:0.4f}'. format(accuracy_score(y, y_pred)))"
   ]
  },
  {
   "cell_type": "code",
   "execution_count": 10,
   "id": "d12ce731-0a42-484e-aa5b-d21050b3b5a5",
   "metadata": {},
   "outputs": [
    {
     "data": {
      "image/png": "[encoded data removed]",
      "text/plain": [
       "<Figure size 432x432 with 2 Axes>"
      ]
     },
     "metadata": {},
     "output_type": "display_data"
    }
   ],
   "source": [
    "#mask = np.triu(np.ones_like(cm, dtype=bool))\n",
    "plt.figure(figsize=(6, 6))\n",
    "x_axis_labels = ['setosa', 'versicolor', 'virginica'] # labels for x-axis\n",
    "y_axis_labels = ['setosa', 'versicolor', 'virginica'] # labels for y-axis\n",
    "sns.heatmap(cm, annot=True, xticklabels=x_axis_labels, yticklabels=y_axis_labels, fmt=\".2f\", cmap='coolwarm')\n",
    "plt.title(\"Confusion matrix heatmap\", fontsize=16)\n",
    "plt.show()"
   ]
  },
  {
   "cell_type": "code",
   "execution_count": null,
   "id": "0ba861cd-5b96-4674-847c-3a737afb9089",
   "metadata": {},
   "outputs": [],
   "source": []
  }
 ],
 "metadata": {
  "kernelspec": {
   "display_name": "Python 3 (Spyder)",
   "language": "python3",
   "name": "python3"
  },
  "language_info": {
   "codemirror_mode": {
    "name": "ipython",
    "version": 3
   },
   "file_extension": ".py",
   "mimetype": "text/x-python",
   "name": "python",
   "nbconvert_exporter": "python",
   "pygments_lexer": "ipython3",
   "version": "3.11.4"
  }
 },
 "nbformat": 4,
 "nbformat_minor": 5
}
