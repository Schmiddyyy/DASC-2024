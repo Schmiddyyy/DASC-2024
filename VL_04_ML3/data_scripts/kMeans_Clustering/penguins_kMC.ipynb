{
 "cells": [
  {
   "cell_type": "markdown",
   "id": "4c5f9a5a-6e3d-4cdf-88e5-3c164a98b9bf",
   "metadata": {},
   "source": [
    "# Beispiel Anwendung PCA und k Means Clustering"
   ]
  },
  {
   "cell_type": "code",
   "execution_count": 92,
   "id": "40c0be49-73e1-4a40-926c-e70756eb4c14",
   "metadata": {},
   "outputs": [],
   "source": [
    "import pandas as pd\n",
    "import numpy as np\n",
    "import matplotlib.pyplot as plt\n",
    "import seaborn as sns\n",
    "\n",
    "from sklearn.preprocessing import StandardScaler\n",
    "from sklearn.decomposition import PCA\n",
    "from sklearn import decomposition\n",
    "from sklearn.cluster import KMeans\n",
    "from sklearn import metrics\n",
    "\n",
    "penguins = pd.read_csv('penguins.csv')\n",
    "penguins.head()\n",
    "import warnings\n",
    "warnings.simplefilter(\"ignore\")"
   ]
  },
  {
   "cell_type": "code",
   "execution_count": 93,
   "id": "25728be6-8bf4-460f-940c-642177290831",
   "metadata": {},
   "outputs": [
    {
     "data": {
      "text/plain": [
       "(344, 5)"
      ]
     },
     "execution_count": 93,
     "metadata": {},
     "output_type": "execute_result"
    }
   ],
   "source": [
    "penguins.shape"
   ]
  },
  {
   "cell_type": "markdown",
   "id": "b6fbbaf2-b98f-4508-8ad2-bcb331663917",
   "metadata": {},
   "source": [
    "## Pengiun Dataset:\n",
    "\n",
    "Quelle: https://www.kaggle.com/datasets/youssefaboelwafa/clustering-penguins-species\n",
    "\n",
    "5 Attribute: \n",
    "* culmen_length_mm: Schnabelrückenlänge (mm)\n",
    "* culmen_depth_mm: Schnabelrückentiefe (mm)\n",
    "* flipper_length_mm: Flossenlänge (mm)\n",
    "* body_mass_g: Körpergewicht (g)\n",
    "* sex: Geschlecht"
   ]
  },
  {
   "cell_type": "code",
   "execution_count": 94,
   "id": "1cc41a35-96f1-4701-94bd-fcf8a79fa972",
   "metadata": {},
   "outputs": [
    {
     "data": {
      "text/plain": [
       "(344, 5)"
      ]
     },
     "execution_count": 94,
     "metadata": {},
     "output_type": "execute_result"
    }
   ],
   "source": [
    "penguins.shape"
   ]
  },
  {
   "cell_type": "code",
   "execution_count": 95,
   "id": "bea19de0-c156-4181-9d5c-e0e5a9aa4759",
   "metadata": {},
   "outputs": [
    {
     "data": {
      "text/html": [
       "<div>\n",
       "<style scoped>\n",
       "    .dataframe tbody tr th:only-of-type {\n",
       "        vertical-align: middle;\n",
       "    }\n",
       "\n",
       "    .dataframe tbody tr th {\n",
       "        vertical-align: top;\n",
       "    }\n",
       "\n",
       "    .dataframe thead th {\n",
       "        text-align: right;\n",
       "    }\n",
       "</style>\n",
       "<table border=\"1\" class=\"dataframe\">\n",
       "  <thead>\n",
       "    <tr style=\"text-align: right;\">\n",
       "      <th></th>\n",
       "      <th>culmen_length_mm</th>\n",
       "      <th>culmen_depth_mm</th>\n",
       "      <th>flipper_length_mm</th>\n",
       "      <th>body_mass_g</th>\n",
       "    </tr>\n",
       "  </thead>\n",
       "  <tbody>\n",
       "    <tr>\n",
       "      <th>count</th>\n",
       "      <td>342.000000</td>\n",
       "      <td>342.000000</td>\n",
       "      <td>342.000000</td>\n",
       "      <td>342.000000</td>\n",
       "    </tr>\n",
       "    <tr>\n",
       "      <th>mean</th>\n",
       "      <td>43.921930</td>\n",
       "      <td>17.151170</td>\n",
       "      <td>214.014620</td>\n",
       "      <td>4201.754386</td>\n",
       "    </tr>\n",
       "    <tr>\n",
       "      <th>std</th>\n",
       "      <td>5.459584</td>\n",
       "      <td>1.974793</td>\n",
       "      <td>260.558057</td>\n",
       "      <td>801.954536</td>\n",
       "    </tr>\n",
       "    <tr>\n",
       "      <th>min</th>\n",
       "      <td>32.100000</td>\n",
       "      <td>13.100000</td>\n",
       "      <td>-132.000000</td>\n",
       "      <td>2700.000000</td>\n",
       "    </tr>\n",
       "    <tr>\n",
       "      <th>25%</th>\n",
       "      <td>39.225000</td>\n",
       "      <td>15.600000</td>\n",
       "      <td>190.000000</td>\n",
       "      <td>3550.000000</td>\n",
       "    </tr>\n",
       "    <tr>\n",
       "      <th>50%</th>\n",
       "      <td>44.450000</td>\n",
       "      <td>17.300000</td>\n",
       "      <td>197.000000</td>\n",
       "      <td>4050.000000</td>\n",
       "    </tr>\n",
       "    <tr>\n",
       "      <th>75%</th>\n",
       "      <td>48.500000</td>\n",
       "      <td>18.700000</td>\n",
       "      <td>213.750000</td>\n",
       "      <td>4750.000000</td>\n",
       "    </tr>\n",
       "    <tr>\n",
       "      <th>max</th>\n",
       "      <td>59.600000</td>\n",
       "      <td>21.500000</td>\n",
       "      <td>5000.000000</td>\n",
       "      <td>6300.000000</td>\n",
       "    </tr>\n",
       "  </tbody>\n",
       "</table>\n",
       "</div>"
      ],
      "text/plain": [
       "       culmen_length_mm  culmen_depth_mm  flipper_length_mm  body_mass_g\n",
       "count        342.000000       342.000000         342.000000   342.000000\n",
       "mean          43.921930        17.151170         214.014620  4201.754386\n",
       "std            5.459584         1.974793         260.558057   801.954536\n",
       "min           32.100000        13.100000        -132.000000  2700.000000\n",
       "25%           39.225000        15.600000         190.000000  3550.000000\n",
       "50%           44.450000        17.300000         197.000000  4050.000000\n",
       "75%           48.500000        18.700000         213.750000  4750.000000\n",
       "max           59.600000        21.500000        5000.000000  6300.000000"
      ]
     },
     "execution_count": 95,
     "metadata": {},
     "output_type": "execute_result"
    }
   ],
   "source": [
    "penguins.describe()"
   ]
  },
  {
   "cell_type": "code",
   "execution_count": 97,
   "id": "73fc575b-febb-4912-8499-fee7339494b4",
   "metadata": {},
   "outputs": [
    {
     "data": {
      "text/plain": [
       "[Text(0.5, 1.0, 'Verteilung flipper_length')]"
      ]
     },
     "execution_count": 97,
     "metadata": {},
     "output_type": "execute_result"
    },
    {
     "data": {
      "image/png": "[encoded data removed]",
      "text/plain": [
       "<Figure size 432x288 with 1 Axes>"
      ]
     },
     "metadata": {},
     "output_type": "display_data"
    }
   ],
   "source": [
    "sns.distplot(penguins[\"flipper_length_mm\"]).set(title=\"Verteilung flipper_length\")"
   ]
  },
  {
   "cell_type": "code",
   "execution_count": 98,
   "id": "38ac5173-5d66-4d23-a278-80caee07954a",
   "metadata": {},
   "outputs": [],
   "source": [
    "def drop_outliers(data, columns):\n",
    "    for item in columns:\n",
    "        q1 = data[item].quantile(0.25)\n",
    "        q3 = data[item].quantile(0.75)\n",
    "        iqr = q3 - q1\n",
    "        lower = q1 - 1.5*iqr\n",
    "        upper = q3 + 1.5*iqr\n",
    "        upper_array = np.where(data[item]>=upper)[0]\n",
    "        lower_array = np.where(data[item]<=lower)[0]\n",
    "\n",
    "        data.drop(index=upper_array, inplace=True)\n",
    "        data.drop(index=lower_array, inplace=True)\n",
    "    return data"
   ]
  },
  {
   "cell_type": "code",
   "execution_count": 99,
   "id": "119d7e36-9d3c-45b6-96a2-e581b4ce8d7c",
   "metadata": {},
   "outputs": [
    {
     "name": "stdout",
     "output_type": "stream",
     "text": [
      "culmen_length_mm - 2\n",
      "culmen_depth_mm - 2\n",
      "flipper_length_mm - 2\n",
      "body_mass_g - 2\n",
      "sex - 9\n"
     ]
    }
   ],
   "source": [
    "for col in penguins.columns:\n",
    "    pct_missing = penguins[col].isnull().sum()\n",
    "    print(f'{col} - {pct_missing :}')"
   ]
  },
  {
   "cell_type": "code",
   "execution_count": 100,
   "id": "b1f22357-531b-48e9-9427-98a476da57e4",
   "metadata": {},
   "outputs": [
    {
     "data": {
      "text/plain": [
       "1"
      ]
     },
     "execution_count": 100,
     "metadata": {},
     "output_type": "execute_result"
    }
   ],
   "source": [
    "penguins.duplicated().sum()"
   ]
  },
  {
   "cell_type": "code",
   "execution_count": 102,
   "id": "1af99c39-26f9-4146-a2b0-bd49cc8ae891",
   "metadata": {},
   "outputs": [
    {
     "data": {
      "text/plain": [
       "(342, 5)"
      ]
     },
     "execution_count": 102,
     "metadata": {},
     "output_type": "execute_result"
    }
   ],
   "source": [
    "numerical_data = [\"body_mass_g\", \"flipper_length_mm\", \"culmen_depth_mm\", \"culmen_length_mm\"]\n",
    "penguins2 = drop_outliers(penguins, numerical_data)\n",
    "penguins2.shape"
   ]
  },
  {
   "cell_type": "code",
   "execution_count": 103,
   "id": "45f17355-cf14-481b-ab50-7d2bccd53bf1",
   "metadata": {},
   "outputs": [
    {
     "data": {
      "text/plain": [
       "(333, 5)"
      ]
     },
     "execution_count": 103,
     "metadata": {},
     "output_type": "execute_result"
    }
   ],
   "source": [
    "penguins2 = penguins2.dropna()\n",
    "penguins2.shape"
   ]
  },
  {
   "cell_type": "code",
   "execution_count": 104,
   "id": "624607f5-ed39-4595-a139-879f20d84865",
   "metadata": {},
   "outputs": [
    {
     "data": {
      "text/plain": [
       "(332, 5)"
      ]
     },
     "execution_count": 104,
     "metadata": {},
     "output_type": "execute_result"
    }
   ],
   "source": [
    "penguins3 = penguins3.drop_duplicates()\n",
    "penguins3.shape"
   ]
  },
  {
   "cell_type": "code",
   "execution_count": 105,
   "id": "86804985-cbe7-446c-a62f-c5da0c78b08a",
   "metadata": {},
   "outputs": [
    {
     "data": {
      "text/html": [
       "<div>\n",
       "<style scoped>\n",
       "    .dataframe tbody tr th:only-of-type {\n",
       "        vertical-align: middle;\n",
       "    }\n",
       "\n",
       "    .dataframe tbody tr th {\n",
       "        vertical-align: top;\n",
       "    }\n",
       "\n",
       "    .dataframe thead th {\n",
       "        text-align: right;\n",
       "    }\n",
       "</style>\n",
       "<table border=\"1\" class=\"dataframe\">\n",
       "  <thead>\n",
       "    <tr style=\"text-align: right;\">\n",
       "      <th></th>\n",
       "      <th>culmen_length_mm</th>\n",
       "      <th>culmen_depth_mm</th>\n",
       "      <th>flipper_length_mm</th>\n",
       "      <th>body_mass_g</th>\n",
       "    </tr>\n",
       "  </thead>\n",
       "  <tbody>\n",
       "    <tr>\n",
       "      <th>count</th>\n",
       "      <td>332.000000</td>\n",
       "      <td>332.000000</td>\n",
       "      <td>332.000000</td>\n",
       "      <td>332.000000</td>\n",
       "    </tr>\n",
       "    <tr>\n",
       "      <th>mean</th>\n",
       "      <td>44.024096</td>\n",
       "      <td>17.151205</td>\n",
       "      <td>200.099398</td>\n",
       "      <td>4209.412651</td>\n",
       "    </tr>\n",
       "    <tr>\n",
       "      <th>std</th>\n",
       "      <td>5.463398</td>\n",
       "      <td>1.968950</td>\n",
       "      <td>23.036141</td>\n",
       "      <td>806.218675</td>\n",
       "    </tr>\n",
       "    <tr>\n",
       "      <th>min</th>\n",
       "      <td>32.100000</td>\n",
       "      <td>13.100000</td>\n",
       "      <td>-132.000000</td>\n",
       "      <td>2700.000000</td>\n",
       "    </tr>\n",
       "    <tr>\n",
       "      <th>25%</th>\n",
       "      <td>39.500000</td>\n",
       "      <td>15.600000</td>\n",
       "      <td>190.000000</td>\n",
       "      <td>3550.000000</td>\n",
       "    </tr>\n",
       "    <tr>\n",
       "      <th>50%</th>\n",
       "      <td>44.700000</td>\n",
       "      <td>17.300000</td>\n",
       "      <td>197.000000</td>\n",
       "      <td>4050.000000</td>\n",
       "    </tr>\n",
       "    <tr>\n",
       "      <th>75%</th>\n",
       "      <td>48.625000</td>\n",
       "      <td>18.700000</td>\n",
       "      <td>213.000000</td>\n",
       "      <td>4800.000000</td>\n",
       "    </tr>\n",
       "    <tr>\n",
       "      <th>max</th>\n",
       "      <td>59.600000</td>\n",
       "      <td>21.500000</td>\n",
       "      <td>231.000000</td>\n",
       "      <td>6300.000000</td>\n",
       "    </tr>\n",
       "  </tbody>\n",
       "</table>\n",
       "</div>"
      ],
      "text/plain": [
       "       culmen_length_mm  culmen_depth_mm  flipper_length_mm  body_mass_g\n",
       "count        332.000000       332.000000         332.000000   332.000000\n",
       "mean          44.024096        17.151205         200.099398  4209.412651\n",
       "std            5.463398         1.968950          23.036141   806.218675\n",
       "min           32.100000        13.100000        -132.000000  2700.000000\n",
       "25%           39.500000        15.600000         190.000000  3550.000000\n",
       "50%           44.700000        17.300000         197.000000  4050.000000\n",
       "75%           48.625000        18.700000         213.000000  4800.000000\n",
       "max           59.600000        21.500000         231.000000  6300.000000"
      ]
     },
     "execution_count": 105,
     "metadata": {},
     "output_type": "execute_result"
    }
   ],
   "source": [
    "penguins3.describe()"
   ]
  },
  {
   "cell_type": "code",
   "execution_count": 107,
   "id": "ba24cda7-81f7-42da-b1c6-1318f2cb1aad",
   "metadata": {},
   "outputs": [],
   "source": [
    "penguins4 = penguins3[(penguins3[numerical_data] >= 0).all(1)]"
   ]
  },
  {
   "cell_type": "code",
   "execution_count": 108,
   "id": "26681270-a2f8-4d07-813b-7bb853b70bb8",
   "metadata": {},
   "outputs": [
    {
     "data": {
      "text/html": [
       "<div>\n",
       "<style scoped>\n",
       "    .dataframe tbody tr th:only-of-type {\n",
       "        vertical-align: middle;\n",
       "    }\n",
       "\n",
       "    .dataframe tbody tr th {\n",
       "        vertical-align: top;\n",
       "    }\n",
       "\n",
       "    .dataframe thead th {\n",
       "        text-align: right;\n",
       "    }\n",
       "</style>\n",
       "<table border=\"1\" class=\"dataframe\">\n",
       "  <thead>\n",
       "    <tr style=\"text-align: right;\">\n",
       "      <th></th>\n",
       "      <th>culmen_length_mm</th>\n",
       "      <th>culmen_depth_mm</th>\n",
       "      <th>flipper_length_mm</th>\n",
       "      <th>body_mass_g</th>\n",
       "    </tr>\n",
       "  </thead>\n",
       "  <tbody>\n",
       "    <tr>\n",
       "      <th>count</th>\n",
       "      <td>331.000000</td>\n",
       "      <td>331.000000</td>\n",
       "      <td>331.000000</td>\n",
       "      <td>331.000000</td>\n",
       "    </tr>\n",
       "    <tr>\n",
       "      <th>mean</th>\n",
       "      <td>44.052568</td>\n",
       "      <td>17.139275</td>\n",
       "      <td>201.102719</td>\n",
       "      <td>4208.836858</td>\n",
       "    </tr>\n",
       "    <tr>\n",
       "      <th>std</th>\n",
       "      <td>5.446947</td>\n",
       "      <td>1.959877</td>\n",
       "      <td>14.037451</td>\n",
       "      <td>807.370924</td>\n",
       "    </tr>\n",
       "    <tr>\n",
       "      <th>min</th>\n",
       "      <td>32.100000</td>\n",
       "      <td>13.100000</td>\n",
       "      <td>172.000000</td>\n",
       "      <td>2700.000000</td>\n",
       "    </tr>\n",
       "    <tr>\n",
       "      <th>25%</th>\n",
       "      <td>39.550000</td>\n",
       "      <td>15.600000</td>\n",
       "      <td>190.000000</td>\n",
       "      <td>3550.000000</td>\n",
       "    </tr>\n",
       "    <tr>\n",
       "      <th>50%</th>\n",
       "      <td>44.900000</td>\n",
       "      <td>17.300000</td>\n",
       "      <td>197.000000</td>\n",
       "      <td>4050.000000</td>\n",
       "    </tr>\n",
       "    <tr>\n",
       "      <th>75%</th>\n",
       "      <td>48.650000</td>\n",
       "      <td>18.650000</td>\n",
       "      <td>213.000000</td>\n",
       "      <td>4800.000000</td>\n",
       "    </tr>\n",
       "    <tr>\n",
       "      <th>max</th>\n",
       "      <td>59.600000</td>\n",
       "      <td>21.500000</td>\n",
       "      <td>231.000000</td>\n",
       "      <td>6300.000000</td>\n",
       "    </tr>\n",
       "  </tbody>\n",
       "</table>\n",
       "</div>"
      ],
      "text/plain": [
       "       culmen_length_mm  culmen_depth_mm  flipper_length_mm  body_mass_g\n",
       "count        331.000000       331.000000         331.000000   331.000000\n",
       "mean          44.052568        17.139275         201.102719  4208.836858\n",
       "std            5.446947         1.959877          14.037451   807.370924\n",
       "min           32.100000        13.100000         172.000000  2700.000000\n",
       "25%           39.550000        15.600000         190.000000  3550.000000\n",
       "50%           44.900000        17.300000         197.000000  4050.000000\n",
       "75%           48.650000        18.650000         213.000000  4800.000000\n",
       "max           59.600000        21.500000         231.000000  6300.000000"
      ]
     },
     "execution_count": 108,
     "metadata": {},
     "output_type": "execute_result"
    }
   ],
   "source": [
    "penguins4.describe()"
   ]
  },
  {
   "cell_type": "code",
   "execution_count": 109,
   "id": "69a5e488-f309-4480-b474-fb389ac99f80",
   "metadata": {},
   "outputs": [
    {
     "data": {
      "image/png": "[encoded data removed]",
      "text/plain": [
       "<Figure size 432x288 with 2 Axes>"
      ]
     },
     "metadata": {},
     "output_type": "display_data"
    }
   ],
   "source": [
    "cmap_1=sns.color_palette(\"mako_r\", as_cmap=True)\n",
    "sns.heatmap(penguins4[numerical_data].corr(), cmap=cmap_1, annot=True)\n",
    "plt.show()"
   ]
  },
  {
   "cell_type": "code",
   "execution_count": 110,
   "id": "94535265-9591-4454-b663-c4a842cc790e",
   "metadata": {},
   "outputs": [],
   "source": [
    "def dummies(x,df):\n",
    "    temp = pd.get_dummies(df[x], drop_first = True)\n",
    "    df = pd.concat([df, temp], axis = 1)\n",
    "    df.drop([x], axis = 1, inplace = True)\n",
    "    return df"
   ]
  },
  {
   "cell_type": "code",
   "execution_count": 111,
   "id": "a9e29a8e-7840-47ca-b7d9-be08e1be9a66",
   "metadata": {},
   "outputs": [],
   "source": [
    "penguins4 = dummies('sex',penguins4)"
   ]
  },
  {
   "cell_type": "code",
   "execution_count": 112,
   "id": "f64134f7-d9da-47cb-9085-f09cf4fb78d9",
   "metadata": {},
   "outputs": [
    {
     "data": {
      "text/html": [
       "<div>\n",
       "<style scoped>\n",
       "    .dataframe tbody tr th:only-of-type {\n",
       "        vertical-align: middle;\n",
       "    }\n",
       "\n",
       "    .dataframe tbody tr th {\n",
       "        vertical-align: top;\n",
       "    }\n",
       "\n",
       "    .dataframe thead th {\n",
       "        text-align: right;\n",
       "    }\n",
       "</style>\n",
       "<table border=\"1\" class=\"dataframe\">\n",
       "  <thead>\n",
       "    <tr style=\"text-align: right;\">\n",
       "      <th></th>\n",
       "      <th>culmen_length_mm</th>\n",
       "      <th>culmen_depth_mm</th>\n",
       "      <th>flipper_length_mm</th>\n",
       "      <th>body_mass_g</th>\n",
       "      <th>FEMALE</th>\n",
       "    </tr>\n",
       "  </thead>\n",
       "  <tbody>\n",
       "    <tr>\n",
       "      <th>0</th>\n",
       "      <td>39.1</td>\n",
       "      <td>18.7</td>\n",
       "      <td>181.0</td>\n",
       "      <td>3750.0</td>\n",
       "      <td>0</td>\n",
       "    </tr>\n",
       "    <tr>\n",
       "      <th>1</th>\n",
       "      <td>39.5</td>\n",
       "      <td>17.4</td>\n",
       "      <td>186.0</td>\n",
       "      <td>3800.0</td>\n",
       "      <td>1</td>\n",
       "    </tr>\n",
       "    <tr>\n",
       "      <th>2</th>\n",
       "      <td>40.3</td>\n",
       "      <td>18.0</td>\n",
       "      <td>195.0</td>\n",
       "      <td>3250.0</td>\n",
       "      <td>1</td>\n",
       "    </tr>\n",
       "    <tr>\n",
       "      <th>4</th>\n",
       "      <td>36.7</td>\n",
       "      <td>19.3</td>\n",
       "      <td>193.0</td>\n",
       "      <td>3450.0</td>\n",
       "      <td>1</td>\n",
       "    </tr>\n",
       "    <tr>\n",
       "      <th>5</th>\n",
       "      <td>39.3</td>\n",
       "      <td>20.6</td>\n",
       "      <td>190.0</td>\n",
       "      <td>3650.0</td>\n",
       "      <td>0</td>\n",
       "    </tr>\n",
       "  </tbody>\n",
       "</table>\n",
       "</div>"
      ],
      "text/plain": [
       "   culmen_length_mm  culmen_depth_mm  flipper_length_mm  body_mass_g  FEMALE\n",
       "0              39.1             18.7              181.0       3750.0       0\n",
       "1              39.5             17.4              186.0       3800.0       1\n",
       "2              40.3             18.0              195.0       3250.0       1\n",
       "4              36.7             19.3              193.0       3450.0       1\n",
       "5              39.3             20.6              190.0       3650.0       0"
      ]
     },
     "execution_count": 112,
     "metadata": {},
     "output_type": "execute_result"
    }
   ],
   "source": [
    "penguins4 = penguins4.drop([\"MALE\"], axis = 1)\n",
    "penguins4.head()"
   ]
  },
  {
   "cell_type": "code",
   "execution_count": 113,
   "id": "4c7b911a-d9f4-4a56-9a3d-97cdd6413a41",
   "metadata": {},
   "outputs": [
    {
     "data": {
      "text/html": [
       "<div>\n",
       "<style scoped>\n",
       "    .dataframe tbody tr th:only-of-type {\n",
       "        vertical-align: middle;\n",
       "    }\n",
       "\n",
       "    .dataframe tbody tr th {\n",
       "        vertical-align: top;\n",
       "    }\n",
       "\n",
       "    .dataframe thead th {\n",
       "        text-align: right;\n",
       "    }\n",
       "</style>\n",
       "<table border=\"1\" class=\"dataframe\">\n",
       "  <thead>\n",
       "    <tr style=\"text-align: right;\">\n",
       "      <th></th>\n",
       "      <th>culmen_length_mm</th>\n",
       "      <th>culmen_depth_mm</th>\n",
       "      <th>flipper_length_mm</th>\n",
       "      <th>body_mass_g</th>\n",
       "      <th>FEMALE</th>\n",
       "    </tr>\n",
       "  </thead>\n",
       "  <tbody>\n",
       "    <tr>\n",
       "      <th>0</th>\n",
       "      <td>-0.910614</td>\n",
       "      <td>0.797544</td>\n",
       "      <td>-1.434246</td>\n",
       "      <td>-0.569170</td>\n",
       "      <td>0</td>\n",
       "    </tr>\n",
       "    <tr>\n",
       "      <th>1</th>\n",
       "      <td>-0.837067</td>\n",
       "      <td>0.133233</td>\n",
       "      <td>-1.077516</td>\n",
       "      <td>-0.507147</td>\n",
       "      <td>1</td>\n",
       "    </tr>\n",
       "    <tr>\n",
       "      <th>2</th>\n",
       "      <td>-0.689974</td>\n",
       "      <td>0.439838</td>\n",
       "      <td>-0.435404</td>\n",
       "      <td>-1.189402</td>\n",
       "      <td>1</td>\n",
       "    </tr>\n",
       "    <tr>\n",
       "      <th>4</th>\n",
       "      <td>-1.351895</td>\n",
       "      <td>1.104149</td>\n",
       "      <td>-0.578095</td>\n",
       "      <td>-0.941309</td>\n",
       "      <td>1</td>\n",
       "    </tr>\n",
       "    <tr>\n",
       "      <th>5</th>\n",
       "      <td>-0.873841</td>\n",
       "      <td>1.768460</td>\n",
       "      <td>-0.792133</td>\n",
       "      <td>-0.693217</td>\n",
       "      <td>0</td>\n",
       "    </tr>\n",
       "  </tbody>\n",
       "</table>\n",
       "</div>"
      ],
      "text/plain": [
       "   culmen_length_mm  culmen_depth_mm  flipper_length_mm  body_mass_g  FEMALE\n",
       "0         -0.910614         0.797544          -1.434246    -0.569170       0\n",
       "1         -0.837067         0.133233          -1.077516    -0.507147       1\n",
       "2         -0.689974         0.439838          -0.435404    -1.189402       1\n",
       "4         -1.351895         1.104149          -0.578095    -0.941309       1\n",
       "5         -0.873841         1.768460          -0.792133    -0.693217       0"
      ]
     },
     "execution_count": 113,
     "metadata": {},
     "output_type": "execute_result"
    }
   ],
   "source": [
    "sc = StandardScaler()\n",
    "penguins4[numerical_data] = sc.fit_transform(penguins4[numerical_data])\n",
    "penguins4.head()"
   ]
  },
  {
   "cell_type": "code",
   "execution_count": 114,
   "id": "9cc7f997-7014-4a00-980c-f6d900a25a57",
   "metadata": {},
   "outputs": [],
   "source": [
    "feature_names = penguins4.columns"
   ]
  },
  {
   "cell_type": "code",
   "execution_count": 115,
   "id": "582bbb0a-fb8a-4eae-b83b-0efb96fc06e5",
   "metadata": {},
   "outputs": [],
   "source": [
    "pca = decomposition.PCA(n_components=3)\n",
    "pca.fit(penguins4)\n",
    "penguins4_pca = pca.transform(penguins4)"
   ]
  },
  {
   "cell_type": "code",
   "execution_count": 116,
   "id": "30107a8a-b8eb-42c2-aaf1-1dc09264623d",
   "metadata": {},
   "outputs": [
    {
     "name": "stdout",
     "output_type": "stream",
     "text": [
      "1 component: 65.09% of initial variance\n",
      "0.454 x culmen_length_mm + -0.388 x culmen_depth_mm + 0.575 x flipper_length_mm + 0.553 x body_mass_g + -0.080 x FEMALE\n",
      "2 component: 21.16% of initial variance\n",
      "0.488 x culmen_length_mm + 0.778 x culmen_depth_mm + -0.008 x flipper_length_mm + 0.098 x body_mass_g + -0.382 x FEMALE\n",
      "3 component: 9.37% of initial variance\n",
      "0.729 x culmen_length_mm + -0.233 x culmen_depth_mm + -0.184 x flipper_length_mm + -0.523 x body_mass_g + 0.328 x FEMALE\n"
     ]
    }
   ],
   "source": [
    "for i, component in enumerate(pca.components_):\n",
    "    print(\"{} component: {}% of initial variance\".format(i + 1, \n",
    "          round(100 * pca.explained_variance_ratio_[i], 2)))\n",
    "    print(\" + \".join(\"%.3f x %s\" % (value, name)\n",
    "                 for value, name in zip(component, feature_names)))"
   ]
  },
  {
   "cell_type": "code",
   "execution_count": 117,
   "id": "a5bcdb9e-0ede-4263-ba63-ce93bf032c8b",
   "metadata": {},
   "outputs": [
    {
     "data": {
      "image/png": "[encoded data removed]",
      "text/plain": [
       "<Figure size 432x288 with 1 Axes>"
      ]
     },
     "metadata": {},
     "output_type": "display_data"
    }
   ],
   "source": [
    "x_ticks = range(1, len(pca.explained_variance_ratio_) + 1)\n",
    "plt.bar(range(1, len(pca.explained_variance_ratio_) + 1), pca.explained_variance_ratio_, tick_label=x_ticks)\n",
    "plt.xlabel('Anzahl der Hauptkomponenten')\n",
    "plt.ylabel('Erklärte Varianzanteil')\n",
    "plt.title('Explained Variance Ratio Plot')\n",
    "plt.grid()\n",
    "\n",
    "plt.show()"
   ]
  },
  {
   "cell_type": "code",
   "execution_count": 118,
   "id": "212fe444-b7eb-4767-a5c0-b5371a776483",
   "metadata": {},
   "outputs": [
    {
     "data": {
      "image/png": "[encoded data removed]",
      "text/plain": [
       "<Figure size 432x288 with 1 Axes>"
      ]
     },
     "metadata": {},
     "output_type": "display_data"
    }
   ],
   "source": [
    "wcss = []\n",
    "for k in range(1, 10):\n",
    "    kmeans = KMeans(n_clusters=k, random_state=42, n_init=\"auto\").fit(penguins4_pca)\n",
    "    wcss.append(kmeans.inertia_)\n",
    "plt.plot(range(1, 10), wcss, marker=\"o\")\n",
    "plt.xlabel(\"Number of clusters\")\n",
    "plt.ylabel(\"Within cluster squared sum\")\n",
    "plt.title(\"Elbow Method\")\n",
    "plt.show()"
   ]
  },
  {
   "cell_type": "code",
   "execution_count": 122,
   "id": "785780f2-c9b1-4073-9a3c-4bb824f4450b",
   "metadata": {},
   "outputs": [
    {
     "data": {
      "image/png": "[encoded data removed]",
      "text/plain": [
       "<Figure size 432x288 with 1 Axes>"
      ]
     },
     "metadata": {},
     "output_type": "display_data"
    }
   ],
   "source": [
    "kmeans = KMeans(n_clusters=3, random_state=10, n_init=\"auto\").fit(penguins4_pca)\n",
    "labels = kmeans.fit_predict(penguins4_pca)\n",
    "u_labels = np.unique(labels)\n",
    "for i in u_labels:\n",
    "    plt.scatter(penguins4_pca[labels == i , 0] , penguins4_pca[labels == i , 1] , cmap=\"viridis\", label = i)\n",
    "   \n",
    "plt.xlabel(\"First Principal Component\")\n",
    "plt.ylabel(\"Second Principal Component\")\n",
    "plt.title(f\"K-means Clustering (K={4})\")\n",
    "plt.legend(loc=\"lower right\")\n",
    "plt.show()"
   ]
  },
  {
   "cell_type": "code",
   "execution_count": 123,
   "id": "2467ecc7-0334-4b38-bb65-b8749373b62b",
   "metadata": {},
   "outputs": [
    {
     "data": {
      "text/plain": [
       "0.44690709200271794"
      ]
     },
     "execution_count": 123,
     "metadata": {},
     "output_type": "execute_result"
    }
   ],
   "source": [
    "labels = kmeans.labels_\n",
    "metrics.silhouette_score(penguins4_pca, labels, metric='euclidean')"
   ]
  },
  {
   "cell_type": "markdown",
   "id": "82e92e92-d56a-44a4-a811-36fbad5cc92b",
   "metadata": {},
   "source": [
    "# Zusammenfassung\n",
    "* im Datensatz lassen sich Muster finden\n",
    "* mittels k Means Clustering Analyse lassen sich bis zu 3 Cluster erklären\n",
    "* PCA zur Dimensionsreduktion eingesetzt"
   ]
  },
  {
   "cell_type": "code",
   "execution_count": null,
   "id": "e3dfcc52-aa36-48e9-a74e-115ccc3cee1d",
   "metadata": {},
   "outputs": [],
   "source": []
  }
 ],
 "metadata": {
  "kernelspec": {
   "display_name": "Python 3 (Spyder)",
   "language": "python3",
   "name": "python3"
  },
  "language_info": {
   "codemirror_mode": {
    "name": "ipython",
    "version": 3
   },
   "file_extension": ".py",
   "mimetype": "text/x-python",
   "name": "python",
   "nbconvert_exporter": "python",
   "pygments_lexer": "ipython3",
   "version": "3.11.4"
  }
 },
 "nbformat": 4,
 "nbformat_minor": 5
}
