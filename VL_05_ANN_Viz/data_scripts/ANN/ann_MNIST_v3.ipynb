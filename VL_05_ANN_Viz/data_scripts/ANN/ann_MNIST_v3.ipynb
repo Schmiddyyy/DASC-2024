{
 "cells": [
  {
   "cell_type": "markdown",
   "id": "4dd37917-2bb6-482a-81e1-fa9b945f66b2",
   "metadata": {
    "id": "4dd37917-2bb6-482a-81e1-fa9b945f66b2"
   },
   "source": [
    "# MNIST mit veränderter Modell-Architektur - v.3\n",
    "Source: https://www.kaggle.com/code/sagorkumarmitra/task-1-creating-a-neural-network-mnist"
   ]
  },
  {
   "cell_type": "code",
   "execution_count": 28,
   "id": "669caa4f-0846-4ce6-92bc-bc0135b3771e",
   "metadata": {
    "id": "669caa4f-0846-4ce6-92bc-bc0135b3771e"
   },
   "outputs": [],
   "source": [
    "import pandas as pd\n",
    "import numpy as np\n",
    "import matplotlib.pyplot as plt\n",
    "import tensorflow as tf\n",
    "from tensorflow import keras\n",
    "from keras.models import Sequential\n",
    "from keras.layers import Dense, Dropout, Flatten, Conv2D, MaxPool2D\n",
    "from keras.optimizers import Adam ,RMSprop\n",
    "import seaborn as sns\n",
    "import visualkeras\n",
    "from keras.utils import plot_model"
   ]
  },
  {
   "cell_type": "markdown",
   "id": "c6676da2-2062-455a-93e0-fc4f44238270",
   "metadata": {
    "id": "c6676da2-2062-455a-93e0-fc4f44238270"
   },
   "source": [
    "## Einladen des MNIST-Datensatzes, aufteilen und Beispiel anzeigen"
   ]
  },
  {
   "cell_type": "code",
   "execution_count": 2,
   "id": "bb12ae1c-a087-4453-a117-3056470cc23f",
   "metadata": {
    "colab": {
     "base_uri": "https://localhost:8080/"
    },
    "id": "bb12ae1c-a087-4453-a117-3056470cc23f",
    "outputId": "3b426603-03ea-4d8d-fc38-ced228d4fdb2"
   },
   "outputs": [],
   "source": [
    "# Datensatz angeben\n",
    "data = keras.datasets.mnist\n",
    "\n",
    "# Datensatz herunterladen, Aufteilen der Daten in Test- und Trainingsdaten\n",
    "(train_images, train_labels), (test_images, test_labels) = data.load_data()"
   ]
  },
  {
   "cell_type": "code",
   "execution_count": 3,
   "id": "d10f44b7-cc14-4575-af40-0b9d441b977c",
   "metadata": {
    "colab": {
     "base_uri": "https://localhost:8080/"
    },
    "id": "d10f44b7-cc14-4575-af40-0b9d441b977c",
    "outputId": "abb61bde-d0e1-46ce-8c17-fbbf3a7160fb"
   },
   "outputs": [
    {
     "name": "stdout",
     "output_type": "stream",
     "text": [
      "Training-Datensatz:  (60000, 28, 28)\n",
      "Test-Datensatz:  (10000, 28, 28)\n",
      "Pixelwerte von 0 bis 255.\n"
     ]
    }
   ],
   "source": [
    "# Größe der Trainingsdaten (Länge, Höhe und Tiefe des Numpy-Arrays)\n",
    "print('Training-Datensatz: ', train_images.shape)\n",
    "# Größe der Testdaten (Länge, Höhe und Tiefe des Numpy-Arrays)\n",
    "print('Test-Datensatz: ', test_images.shape)\n",
    "# Informationsinhalte der Daten\n",
    "print(f\"Pixelwerte von {np.min(train_images)} bis {np.max(train_images)}.\")"
   ]
  },
  {
   "cell_type": "code",
   "execution_count": 4,
   "id": "fcfe66a6-42a5-4a5a-9032-6c6dae266a30",
   "metadata": {
    "colab": {
     "base_uri": "https://localhost:8080/",
     "height": 448
    },
    "id": "fcfe66a6-42a5-4a5a-9032-6c6dae266a30",
    "outputId": "59115054-c736-41e1-eafe-8586183c7210"
   },
   "outputs": [
    {
     "data": {
      "text/plain": [
       "<matplotlib.image.AxesImage at 0x217abb6e4d0>"
      ]
     },
     "execution_count": 4,
     "metadata": {},
     "output_type": "execute_result"
    },
    {
     "data": {
      "image/png": "[encoded data removed]",
      "text/plain": [
       "<Figure size 432x288 with 1 Axes>"
      ]
     },
     "metadata": {},
     "output_type": "display_data"
    }
   ],
   "source": [
    "single_image = train_images[20]\n",
    "plt.imshow(single_image)"
   ]
  },
  {
   "cell_type": "markdown",
   "id": "433af888-f285-45eb-aa06-f9bc5dcf0849",
   "metadata": {
    "id": "433af888-f285-45eb-aa06-f9bc5dcf0849"
   },
   "source": [
    "## Preprocessing - Umwandlung der Lablels in einen Vektor mit 10 Elementen"
   ]
  },
  {
   "cell_type": "code",
   "execution_count": 5,
   "id": "9f4087ef-35a8-404d-a435-0388253de3d2",
   "metadata": {
    "colab": {
     "base_uri": "https://localhost:8080/"
    },
    "id": "9f4087ef-35a8-404d-a435-0388253de3d2",
    "outputId": "32f60c85-0659-463c-ed85-80d2978edf0a"
   },
   "outputs": [
    {
     "data": {
      "text/plain": [
       "array([0., 0., 0., 0., 1., 0., 0., 0., 0., 0.], dtype=float32)"
      ]
     },
     "execution_count": 5,
     "metadata": {},
     "output_type": "execute_result"
    }
   ],
   "source": [
    "from tensorflow.keras.utils import to_categorical\n",
    "y_example = to_categorical(train_labels)\n",
    "y_example[20]"
   ]
  },
  {
   "cell_type": "code",
   "execution_count": 6,
   "id": "870acb73-cd4b-427a-bb6d-a87718ef5937",
   "metadata": {
    "id": "870acb73-cd4b-427a-bb6d-a87718ef5937"
   },
   "outputs": [],
   "source": [
    "labels_cat_test = to_categorical(test_labels,10)\n",
    "labels_cat_train = to_categorical(train_labels,10)"
   ]
  },
  {
   "cell_type": "markdown",
   "id": "adc42f97-00f7-4d3d-b299-b244ee1c8049",
   "metadata": {
    "id": "adc42f97-00f7-4d3d-b299-b244ee1c8049"
   },
   "source": [
    "## Skalieren der Bilder auf Werteberich zwischen 0 und 1"
   ]
  },
  {
   "cell_type": "code",
   "execution_count": 7,
   "id": "e7231988-5702-43f9-852c-1bc3f95acdcd",
   "metadata": {
    "colab": {
     "base_uri": "https://localhost:8080/",
     "height": 448
    },
    "id": "e7231988-5702-43f9-852c-1bc3f95acdcd",
    "outputId": "074a0de6-82bb-468e-d80e-acd33a8c0057"
   },
   "outputs": [
    {
     "data": {
      "text/plain": [
       "<matplotlib.image.AxesImage at 0x217ae4c64d0>"
      ]
     },
     "execution_count": 7,
     "metadata": {},
     "output_type": "execute_result"
    },
    {
     "data": {
      "image/png": "[encoded data removed]",
      "text/plain": [
       "<Figure size 432x288 with 1 Axes>"
      ]
     },
     "metadata": {},
     "output_type": "display_data"
    }
   ],
   "source": [
    "train_images = train_images/255\n",
    "test_images = test_images/255\n",
    "plt.imshow(train_images[20])"
   ]
  },
  {
   "cell_type": "markdown",
   "id": "b10a195b-bd5f-4828-9682-566850a4b790",
   "metadata": {
    "id": "b10a195b-bd5f-4828-9682-566850a4b790"
   },
   "source": [
    "## Reshaping der Datensätze (Train, Test), Erweiterung um eine Dimension"
   ]
  },
  {
   "cell_type": "code",
   "execution_count": 8,
   "id": "2697d8d0-5721-477a-bd24-32bae935cb3c",
   "metadata": {
    "colab": {
     "base_uri": "https://localhost:8080/"
    },
    "id": "2697d8d0-5721-477a-bd24-32bae935cb3c",
    "outputId": "cb8f8fa5-0522-4750-eb5d-290185e37f37"
   },
   "outputs": [
    {
     "data": {
      "text/plain": [
       "(10000, 28, 28, 1)"
      ]
     },
     "execution_count": 8,
     "metadata": {},
     "output_type": "execute_result"
    }
   ],
   "source": [
    "train_images = train_images.reshape(60000, 28, 28, 1)\n",
    "test_images = test_images.reshape(10000,28,28,1)\n",
    "test_images.shape"
   ]
  },
  {
   "cell_type": "markdown",
   "id": "f9c2c18e-f1b7-42b2-95cf-187f6cbede80",
   "metadata": {
    "id": "f9c2c18e-f1b7-42b2-95cf-187f6cbede80"
   },
   "source": [
    "## Modellaufbau"
   ]
  },
  {
   "cell_type": "code",
   "execution_count": 9,
   "id": "326586f7-e817-455a-bbbe-c16083f18135",
   "metadata": {
    "id": "326586f7-e817-455a-bbbe-c16083f18135"
   },
   "outputs": [],
   "source": [
    "model = Sequential()\n",
    "\n",
    "# CONVOLUTIONAL LAYER\n",
    "model.add(Conv2D(filters=32, kernel_size=(4,4),input_shape=(28, 28, 1), activation='relu',))\n",
    "\n",
    "# POOLING LAYER\n",
    "model.add(MaxPool2D(pool_size=(2, 2)))\n",
    "\n",
    "# FLATTEN IMAGES FROM 28 by 28 to 764\n",
    "model.add(Flatten())\n",
    "\n",
    "# 128 NEURONS IN DENSE HIDDEN LAYER\n",
    "model.add(Dense(128, activation='relu'))\n",
    "\n",
    "# LAST LAYER IS THE CLASSIFIER, 10 POSSIBLE CLASSES\n",
    "model.add(Dense(10, activation='softmax'))\n",
    "\n",
    "# KERAS METRICS FOR REPORT GENERATION\n",
    "model.compile(loss='categorical_crossentropy',\n",
    "              optimizer='adam',\n",
    "              metrics=['accuracy'])"
   ]
  },
  {
   "cell_type": "code",
   "execution_count": 10,
   "id": "8d7e10d8-ac0f-4ab3-bdf4-07ce78bf0984",
   "metadata": {
    "colab": {
     "base_uri": "https://localhost:8080/"
    },
    "id": "8d7e10d8-ac0f-4ab3-bdf4-07ce78bf0984",
    "outputId": "7d3ce403-b54e-4ed0-ad60-617101ae800b"
   },
   "outputs": [
    {
     "name": "stdout",
     "output_type": "stream",
     "text": [
      "Model: \"sequential\"\n",
      "_________________________________________________________________\n",
      " Layer (type)                Output Shape              Param #   \n",
      "=================================================================\n",
      " conv2d (Conv2D)             (None, 25, 25, 32)        544       \n",
      "                                                                 \n",
      " max_pooling2d (MaxPooling2  (None, 12, 12, 32)        0         \n",
      " D)                                                              \n",
      "                                                                 \n",
      " flatten (Flatten)           (None, 4608)              0         \n",
      "                                                                 \n",
      " dense (Dense)               (None, 128)               589952    \n",
      "                                                                 \n",
      " dense_1 (Dense)             (None, 10)                1290      \n",
      "                                                                 \n",
      "=================================================================\n",
      "Total params: 591786 (2.26 MB)\n",
      "Trainable params: 591786 (2.26 MB)\n",
      "Non-trainable params: 0 (0.00 Byte)\n",
      "_________________________________________________________________\n"
     ]
    }
   ],
   "source": [
    "model.summary()"
   ]
  },
  {
   "cell_type": "code",
   "execution_count": 29,
   "id": "cb96c0ea-d740-4295-899e-b60baf633338",
   "metadata": {},
   "outputs": [
    {
     "data": {
      "image/png": "[encoded data removed]",
      "text/plain": [
       "<PIL.Image.Image image mode=RGBA size=560x134>"
      ]
     },
     "execution_count": 29,
     "metadata": {},
     "output_type": "execute_result"
    }
   ],
   "source": [
    "visualkeras.layered_view(model)"
   ]
  },
  {
   "cell_type": "code",
   "execution_count": 11,
   "id": "67c6ab17-5511-453a-b2de-754f9b9b1e7e",
   "metadata": {
    "id": "67c6ab17-5511-453a-b2de-754f9b9b1e7e"
   },
   "outputs": [],
   "source": [
    "from tensorflow.keras.callbacks import EarlyStopping\n",
    "early_stop = EarlyStopping(monitor='val_loss',patience=2)"
   ]
  },
  {
   "cell_type": "markdown",
   "id": "44797c79-2261-4dbc-b7c8-9b1b900a37c4",
   "metadata": {},
   "source": [
    " Das Training wird automatisch gestoppt, wenn der Validierungsverlust für zwei aufeinanderfolgende Epochen nicht verbessert wird. Dies hilft, Überanpassung zu vermeiden und das Training zu beenden, wenn das Modell nicht mehr von den Daten lernt.\n",
    "\n",
    "* monitor='val_loss': Der Monitor gibt an, welche Metrik überwacht werden soll, um zu entscheiden, wann das Training beendet werden soll. In diesem Fall ist es der Validierungsverlust (val_loss). Das Training wird gestoppt, wenn der Validierungsverlust nicht mehr verbessert wird.\n",
    "\n",
    "* patience=2: Die Geduld gibt an, wie viele Epochen ohne Verbesserung der überwachten Metrik toleriert werden, bevor das Training gestoppt wird. In diesem Beispiel wird das Training beendet, wenn der Validierungsverlust für zwei aufeinanderfolgende Epochen nicht verbessert wird."
   ]
  },
  {
   "cell_type": "markdown",
   "id": "84408bd5-90cc-4239-8838-f82c7da6ad6e",
   "metadata": {
    "id": "84408bd5-90cc-4239-8838-f82c7da6ad6e"
   },
   "source": [
    "## Modellierung"
   ]
  },
  {
   "cell_type": "markdown",
   "id": "77bd3a9f-93bd-4519-9ff5-572b60fe8ddc",
   "metadata": {},
   "source": [
    "val_loss und val_accuracy sind Metriken, die verwendet werden, um die Leistung eines neuronalen Netzwerks während des Validierungsprozesses zu bewerten.\n",
    "\n",
    "* val_loss (Validierungsverlust):\n",
    "Der Validierungsverlust ist eine Kennzahl, die angibt, wie gut das Modell auf einem separaten Validierungsdatensatz performt. Der Verlust misst die Differenz zwischen den vorhergesagten Werten des Modells und den tatsächlichen Werten im Validierungsdatensatz. Ein niedriger Validierungsverlust deutet darauf hin, dass das Modell gut auf Daten generalisiert, die es nicht während des Trainings gesehen hat. Die Verlustfunktion, die während des Trainings minimiert wird (z. B. Kreuzentropie oder quadratischer Fehler), wird auch auf dem Validierungsdatensatz angewendet.\n",
    "\n",
    "* val_accuracy (Validierungsgenauigkeit):\n",
    "Die Validierungsgenauigkeit gibt den Prozentsatz der korrekt klassifizierten Instanzen im Validierungsdatensatz an. Es misst also, wie gut das Modell die Klassen im Validierungsdatensatz vorhersagt. Eine höhere Validierungsgenauigkeit deutet darauf hin, dass das Modell gut generalisiert und in der Lage ist, nicht gesehene Daten korrekt zu klassifizieren.\n",
    "\n",
    "Während des Trainings eines neuronalen Netzwerks werden normalerweise sowohl der Trainingsverlust (loss) als auch die Trainingsgenauigkeit (accuracy) überwacht, um die Leistung während des Lernprozesses zu überprüfen. Der Validierungsverlust und die Validierungsgenauigkeit helfen dabei, Überanpassung (Overfitting) zu überwachen und sicherzustellen, dass das Modell nicht nur auf die Trainingsdaten, sondern auch auf neue Daten gut generalisiert."
   ]
  },
  {
   "cell_type": "code",
   "execution_count": 12,
   "id": "3df80f2e-9e82-4f9c-b5ce-247fa3246166",
   "metadata": {
    "colab": {
     "base_uri": "https://localhost:8080/"
    },
    "id": "3df80f2e-9e82-4f9c-b5ce-247fa3246166",
    "outputId": "0ce45163-eb76-4a2a-8e30-7be540d8f146"
   },
   "outputs": [
    {
     "name": "stdout",
     "output_type": "stream",
     "text": [
      "Epoch 1/10\n",
      "1875/1875 [==============================] - 40s 21ms/step - loss: 0.1437 - accuracy: 0.9578 - val_loss: 0.0730 - val_accuracy: 0.9770\n",
      "Epoch 2/10\n",
      "1875/1875 [==============================] - 45s 24ms/step - loss: 0.0500 - accuracy: 0.9848 - val_loss: 0.0428 - val_accuracy: 0.9853\n",
      "Epoch 3/10\n",
      "1875/1875 [==============================] - 51s 27ms/step - loss: 0.0322 - accuracy: 0.9898 - val_loss: 0.0448 - val_accuracy: 0.9843\n",
      "Epoch 4/10\n",
      "1875/1875 [==============================] - 43s 23ms/step - loss: 0.0218 - accuracy: 0.9932 - val_loss: 0.0379 - val_accuracy: 0.9878\n",
      "Epoch 5/10\n",
      "1875/1875 [==============================] - 41s 22ms/step - loss: 0.0149 - accuracy: 0.9954 - val_loss: 0.0361 - val_accuracy: 0.9887\n",
      "Epoch 6/10\n",
      "1875/1875 [==============================] - 42s 22ms/step - loss: 0.0119 - accuracy: 0.9961 - val_loss: 0.0401 - val_accuracy: 0.9885\n",
      "Epoch 7/10\n",
      "1875/1875 [==============================] - 40s 21ms/step - loss: 0.0080 - accuracy: 0.9976 - val_loss: 0.0393 - val_accuracy: 0.9890\n"
     ]
    },
    {
     "data": {
      "text/plain": [
       "<keras.src.callbacks.History at 0x217b130bfd0>"
      ]
     },
     "execution_count": 12,
     "metadata": {},
     "output_type": "execute_result"
    }
   ],
   "source": [
    "model.fit(train_images,labels_cat_train,epochs=10,validation_data=(test_images,labels_cat_test),callbacks=[early_stop])"
   ]
  },
  {
   "cell_type": "markdown",
   "id": "7d9b20ea-76c5-40d2-831a-49c6afc74df1",
   "metadata": {
    "id": "7d9b20ea-76c5-40d2-831a-49c6afc74df1"
   },
   "source": [
    "## Modellevaluierung"
   ]
  },
  {
   "cell_type": "code",
   "execution_count": 13,
   "id": "5330ebbb-018e-4cd0-a47e-1a4fe06c6692",
   "metadata": {
    "colab": {
     "base_uri": "https://localhost:8080/"
    },
    "id": "5330ebbb-018e-4cd0-a47e-1a4fe06c6692",
    "outputId": "6a07593d-93dc-418c-b86e-f05b4f0c21bc"
   },
   "outputs": [
    {
     "data": {
      "text/plain": [
       "['loss', 'accuracy']"
      ]
     },
     "execution_count": 13,
     "metadata": {},
     "output_type": "execute_result"
    }
   ],
   "source": [
    "model.metrics_names"
   ]
  },
  {
   "cell_type": "code",
   "execution_count": 14,
   "id": "fbdaa0b8-1a82-4a11-8833-70b0fd18b71e",
   "metadata": {
    "colab": {
     "base_uri": "https://localhost:8080/",
     "height": 206
    },
    "id": "fbdaa0b8-1a82-4a11-8833-70b0fd18b71e",
    "outputId": "91cfae13-4fbd-4d7d-a5e5-c8475875d063"
   },
   "outputs": [
    {
     "data": {
      "text/html": [
       "<div>\n",
       "<style scoped>\n",
       "    .dataframe tbody tr th:only-of-type {\n",
       "        vertical-align: middle;\n",
       "    }\n",
       "\n",
       "    .dataframe tbody tr th {\n",
       "        vertical-align: top;\n",
       "    }\n",
       "\n",
       "    .dataframe thead th {\n",
       "        text-align: right;\n",
       "    }\n",
       "</style>\n",
       "<table border=\"1\" class=\"dataframe\">\n",
       "  <thead>\n",
       "    <tr style=\"text-align: right;\">\n",
       "      <th></th>\n",
       "      <th>loss</th>\n",
       "      <th>accuracy</th>\n",
       "      <th>val_loss</th>\n",
       "      <th>val_accuracy</th>\n",
       "    </tr>\n",
       "  </thead>\n",
       "  <tbody>\n",
       "    <tr>\n",
       "      <th>0</th>\n",
       "      <td>0.143668</td>\n",
       "      <td>0.957833</td>\n",
       "      <td>0.072967</td>\n",
       "      <td>0.9770</td>\n",
       "    </tr>\n",
       "    <tr>\n",
       "      <th>1</th>\n",
       "      <td>0.049962</td>\n",
       "      <td>0.984800</td>\n",
       "      <td>0.042823</td>\n",
       "      <td>0.9853</td>\n",
       "    </tr>\n",
       "    <tr>\n",
       "      <th>2</th>\n",
       "      <td>0.032173</td>\n",
       "      <td>0.989833</td>\n",
       "      <td>0.044805</td>\n",
       "      <td>0.9843</td>\n",
       "    </tr>\n",
       "    <tr>\n",
       "      <th>3</th>\n",
       "      <td>0.021810</td>\n",
       "      <td>0.993233</td>\n",
       "      <td>0.037887</td>\n",
       "      <td>0.9878</td>\n",
       "    </tr>\n",
       "    <tr>\n",
       "      <th>4</th>\n",
       "      <td>0.014898</td>\n",
       "      <td>0.995350</td>\n",
       "      <td>0.036061</td>\n",
       "      <td>0.9887</td>\n",
       "    </tr>\n",
       "    <tr>\n",
       "      <th>5</th>\n",
       "      <td>0.011889</td>\n",
       "      <td>0.996083</td>\n",
       "      <td>0.040101</td>\n",
       "      <td>0.9885</td>\n",
       "    </tr>\n",
       "  </tbody>\n",
       "</table>\n",
       "</div>"
      ],
      "text/plain": [
       "       loss  accuracy  val_loss  val_accuracy\n",
       "0  0.143668  0.957833  0.072967        0.9770\n",
       "1  0.049962  0.984800  0.042823        0.9853\n",
       "2  0.032173  0.989833  0.044805        0.9843\n",
       "3  0.021810  0.993233  0.037887        0.9878\n",
       "4  0.014898  0.995350  0.036061        0.9887\n",
       "5  0.011889  0.996083  0.040101        0.9885"
      ]
     },
     "execution_count": 14,
     "metadata": {},
     "output_type": "execute_result"
    }
   ],
   "source": [
    "losses = pd.DataFrame(model.history.history)\n",
    "losses.head(6)"
   ]
  },
  {
   "cell_type": "code",
   "execution_count": 15,
   "id": "eb0337c3-1e2e-452d-a2ac-9195042b0e67",
   "metadata": {
    "colab": {
     "base_uri": "https://localhost:8080/",
     "height": 472
    },
    "id": "eb0337c3-1e2e-452d-a2ac-9195042b0e67",
    "outputId": "842c0237-b054-4f9e-9431-0f94d329c1d1"
   },
   "outputs": [
    {
     "data": {
      "image/png": "[encoded data removed]",
      "text/plain": [
       "<Figure size 432x288 with 1 Axes>"
      ]
     },
     "metadata": {},
     "output_type": "display_data"
    }
   ],
   "source": [
    "plt.plot(losses['accuracy'], color='b',  label='accuracy')\n",
    "plt.plot(losses['val_accuracy'], color='r', label='val_accuracy')\n",
    "plt.title(\"Accuracy während der Trainings-Epochen\")\n",
    "plt.xlabel(\"Epoche\")\n",
    "plt.ylabel(\"Accuracy\")\n",
    "plt.legend()\n",
    "plt.show()"
   ]
  },
  {
   "cell_type": "code",
   "execution_count": 16,
   "id": "3cc17f25-e1ab-41f0-862f-89235a187eec",
   "metadata": {
    "colab": {
     "base_uri": "https://localhost:8080/",
     "height": 736
    },
    "id": "3cc17f25-e1ab-41f0-862f-89235a187eec",
    "outputId": "91d20bab-ad6e-48ac-a1f2-07bcfbb1b1e7"
   },
   "outputs": [
    {
     "name": "stdout",
     "output_type": "stream",
     "text": [
      "313/313 [==============================] - 2s 6ms/step\n"
     ]
    },
    {
     "data": {
      "image/png": "[encoded data removed]",
      "text/plain": [
       "<Figure size 576x576 with 2 Axes>"
      ]
     },
     "metadata": {},
     "output_type": "display_data"
    }
   ],
   "source": [
    "from sklearn.metrics import confusion_matrix\n",
    "\n",
    "y_pred=model.predict(test_images)\n",
    "y_pred_classes = np.argmax(y_pred, axis = 1)\n",
    "y_pred_classes\n",
    "cm=confusion_matrix(test_labels,y_pred_classes)\n",
    "f,ax = plt.subplots(figsize=(8, 8))\n",
    "sns.heatmap(cm, annot=True, linewidths=0.01,cmap=\"Greens\",linecolor=\"gray\", fmt= '.1f',ax=ax)\n",
    "plt.xlabel(\"Predicted Label\")\n",
    "plt.ylabel(\"True Label\")\n",
    "plt.title(\"Confusion Matrix\")\n",
    "plt.show()"
   ]
  },
  {
   "cell_type": "code",
   "execution_count": 17,
   "id": "77e88ad4-10e4-4958-9d1d-beceb3a170d4",
   "metadata": {
    "colab": {
     "base_uri": "https://localhost:8080/",
     "height": 486
    },
    "id": "77e88ad4-10e4-4958-9d1d-beceb3a170d4",
    "outputId": "1630bafa-50ba-4763-8eae-1e0fc1da1378"
   },
   "outputs": [
    {
     "data": {
      "image/png": "[encoded data removed]",
      "text/plain": [
       "<Figure size 432x288 with 9 Axes>"
      ]
     },
     "metadata": {},
     "output_type": "display_data"
    }
   ],
   "source": [
    "# Fehler sind Unterschiede zwischen y_pred labels and den wahren labels\n",
    "errors = (y_pred_classes - test_labels != 0)\n",
    "\n",
    "y_pred_classes_errors = y_pred_classes[errors]\n",
    "y_pred_errors = y_pred[errors]\n",
    "test_labels_errors = test_labels[errors]\n",
    "test_images_errors = test_images[errors]\n",
    "\n",
    "def display_errors(errors_index,img_errors,pred_errors, obs_errors):\n",
    "\n",
    "    n = 0\n",
    "    nrows = 3\n",
    "    ncols = 3\n",
    "    fig, ax = plt.subplots(nrows,ncols,sharex=True,sharey=True)\n",
    "    for row in range(nrows):\n",
    "        for col in range(ncols):\n",
    "            error = errors_index[n]\n",
    "            ax[row,col].imshow((img_errors[error]).reshape((28,28)))\n",
    "            ax[row,col].set_title(\"Predicted label :{}\\nTrue label :{}\".format(pred_errors[error],obs_errors[error]))\n",
    "            n += 1\n",
    "    fig.tight_layout()\n",
    "\n",
    "# Wahrscheinlichkeit der falsch erkannten Zahl\n",
    "y_pred_errors_prob = np.max(y_pred_errors,axis = 1)\n",
    "\n",
    "# Vorhergesagte Wahrscheinlichkeit der wahren Zahl\n",
    "true_prob_errors = np.diagonal(np.take(y_pred_errors, test_labels_errors, axis=1))\n",
    "\n",
    "# Differenz der Wahrscheinlichkeiten\n",
    "delta_pred_true_errors = y_pred_errors_prob - true_prob_errors\n",
    "\n",
    "# Sortieren der Differenzen\n",
    "sorted_delta_errors = np.argsort(delta_pred_true_errors)\n",
    "\n",
    "# Top 9 auswählen\n",
    "most_important_errors = sorted_delta_errors[-9:]\n",
    "display_errors(most_important_errors, test_images_errors, y_pred_classes_errors, test_labels_errors)"
   ]
  },
  {
   "cell_type": "markdown",
   "id": "e1d6bb34-f2e0-4eb4-8b56-cb74abf373ae",
   "metadata": {},
   "source": [
    "## Damit kann man leben..."
   ]
  },
  {
   "cell_type": "code",
   "execution_count": 24,
   "id": "c267cb61-fb5b-444a-9abe-d355a2fe205b",
   "metadata": {},
   "outputs": [
    {
     "data": {
      "text/plain": [
       "<matplotlib.image.AxesImage at 0x217d0b764d0>"
      ]
     },
     "execution_count": 24,
     "metadata": {},
     "output_type": "execute_result"
    },
    {
     "data": {
      "image/png": "[encoded data removed]",
      "text/plain": [
       "<Figure size 432x288 with 1 Axes>"
      ]
     },
     "metadata": {},
     "output_type": "display_data"
    }
   ],
   "source": [
    "my_number = test_images[42]\n",
    "plt.imshow(my_number.reshape(28,28))"
   ]
  },
  {
   "cell_type": "code",
   "execution_count": 25,
   "id": "4a0010a0-8cda-405c-884e-9419de4bcdf7",
   "metadata": {},
   "outputs": [
    {
     "name": "stdout",
     "output_type": "stream",
     "text": [
      "1/1 [==============================] - 0s 28ms/step\n"
     ]
    }
   ],
   "source": [
    "predict_x=model.predict(my_number.reshape(1,28,28,1))\n",
    "classes_x=np.argmax(predict_x,axis=1)"
   ]
  },
  {
   "cell_type": "code",
   "execution_count": 27,
   "id": "f399113c-5919-4d6f-b71d-394669172f43",
   "metadata": {},
   "outputs": [
    {
     "data": {
      "text/plain": [
       "array([4], dtype=int64)"
      ]
     },
     "execution_count": 27,
     "metadata": {},
     "output_type": "execute_result"
    }
   ],
   "source": [
    "classes_x"
   ]
  },
  {
   "cell_type": "code",
   "execution_count": null,
   "id": "04742de8-25de-443f-b22d-fa5251cde8c0",
   "metadata": {},
   "outputs": [],
   "source": []
  }
 ],
 "metadata": {
  "colab": {
   "provenance": []
  },
  "kernelspec": {
   "display_name": "Python 3 (Spyder)",
   "language": "python3",
   "name": "python3"
  },
  "language_info": {
   "codemirror_mode": {
    "name": "ipython",
    "version": 3
   },
   "file_extension": ".py",
   "mimetype": "text/x-python",
   "name": "python",
   "nbconvert_exporter": "python",
   "pygments_lexer": "ipython3",
   "version": "3.11.4"
  }
 },
 "nbformat": 4,
 "nbformat_minor": 5
}
