{
 "cells": [
  {
   "cell_type": "code",
   "execution_count": 231,
   "id": "initial_id",
   "metadata": {
    "collapsed": true,
    "ExecuteTime": {
     "end_time": "2024-03-22T15:51:07.820264Z",
     "start_time": "2024-03-22T15:51:07.532767900Z"
    }
   },
   "outputs": [],
   "source": [
    "import pandas as pd\n",
    "import matplotlib.pyplot as plt\n",
    "import numpy as np\n",
    "import seaborn as sns\n",
    "import warnings\n",
    "\n",
    "warnings.filterwarnings('ignore')\n",
    "\n",
    "from sklearn import neighbors\n",
    "\n",
    "from sklearn.model_selection import train_test_split\n",
    "from sklearn.ensemble import RandomForestClassifier\n",
    "from sklearn.metrics import confusion_matrix, classification_report, roc_auc_score, roc_curve\n",
    "from sklearn.linear_model import LogisticRegression\n",
    "from sklearn.preprocessing import StandardScaler\n",
    "\n"
   ]
  },
  {
   "cell_type": "markdown",
   "source": [
    "# EDA Validierung des Datensatzes\n",
    "\n"
   ],
   "metadata": {
    "collapsed": false
   },
   "id": "9b0aff994c2454a5"
  },
  {
   "cell_type": "code",
   "outputs": [],
   "source": [
    "diabetes = pd.read_csv(\"diabetes.csv\")"
   ],
   "metadata": {
    "collapsed": false
   },
   "id": "bc740985bc57e782"
  },
  {
   "cell_type": "code",
   "outputs": [],
   "source": [
    "diabetes.describe()"
   ],
   "metadata": {
    "collapsed": false
   },
   "id": "d935bd3f1c9557b3"
  },
  {
   "cell_type": "code",
   "outputs": [],
   "source": [
    "diabetes.shape"
   ],
   "metadata": {
    "collapsed": false
   },
   "id": "3e3bfc57c52c4297"
  },
  {
   "cell_type": "code",
   "outputs": [],
   "source": [
    "diabetes.duplicated().sum()"
   ],
   "metadata": {
    "collapsed": false
   },
   "id": "7f8a78168930e5e2"
  },
  {
   "cell_type": "code",
   "outputs": [],
   "source": [
    "diabetes.isnull().sum()"
   ],
   "metadata": {
    "collapsed": false
   },
   "id": "6b89d9238469c04b"
  },
  {
   "cell_type": "code",
   "outputs": [],
   "source": [
    "diabetes.isna().sum()"
   ],
   "metadata": {
    "collapsed": false
   },
   "id": "f89c6c6f950e827f"
  },
  {
   "cell_type": "code",
   "outputs": [],
   "source": [
    "diabetes[['Glucose','BloodPressure','SkinThickness','Insulin','BMI']] = diabetes[['Glucose','BloodPressure','SkinThickness','Insulin','BMI']].replace(0,np.NaN)\n",
    "diabetes.describe()\n"
   ],
   "metadata": {
    "collapsed": false
   },
   "id": "38a520e2c282c193"
  },
  {
   "cell_type": "code",
   "outputs": [],
   "source": [
    "diabetes[\"Outcome\"].value_counts(0)"
   ],
   "metadata": {
    "collapsed": false
   },
   "id": "1f2f25f8bb2c8644"
  },
  {
   "cell_type": "markdown",
   "source": [
    "## Aufbereitung der fehlenden Daten"
   ],
   "metadata": {
    "collapsed": false
   },
   "id": "df6c7c3c02babc68"
  },
  {
   "cell_type": "markdown",
   "source": [
    "### Insulin"
   ],
   "metadata": {
    "collapsed": false
   },
   "id": "c30a9aeb648dbc8a"
  },
  {
   "cell_type": "code",
   "outputs": [],
   "source": [
    "H = diabetes[diabetes['Outcome'] == 0]\n",
    "D = diabetes[diabetes['Outcome'] == 1]\n",
    "\n",
    "sample_size = 250\n",
    "\n",
    "# Bootstrapping-Verfahren für gesunde Personen\n",
    "H_sample = H.sample(n=sample_size, replace=True, random_state=42)\n",
    "\n",
    "# Bootstrapping-Verfahren für nicht gesunde Personen\n",
    "D_sample = D.sample(n=sample_size, replace=True, random_state=42)\n",
    "\n",
    "diabetes = pd.concat([H_sample, D_sample])"
   ],
   "metadata": {
    "collapsed": false
   },
   "id": "801a7a4435e1192d"
  },
  {
   "cell_type": "code",
   "outputs": [],
   "source": [
    "def median_target(var):\n",
    "    temp = diabetes[diabetes[var].notnull()]\n",
    "    temp = temp[[var, 'Outcome']].groupby(['Outcome'])[[var]].median().reset_index()\n",
    "    return temp\n",
    "\n",
    "def change_value(var):\n",
    "    diabetes.loc[(diabetes['Outcome'] == 0 ) & (diabetes[var].isnull()), var] = median_target(var)[var][0]\n",
    "    diabetes.loc[(diabetes['Outcome'] == 1 ) & (diabetes[var].isnull()), var] = median_target(var)[var][1]"
   ],
   "metadata": {
    "collapsed": false
   },
   "id": "1208e534da40e9cc"
  },
  {
   "cell_type": "code",
   "outputs": [],
   "source": [
    "H = diabetes.loc[diabetes[\"Outcome\"] == 0, \"Insulin\"]\n",
    "D = diabetes.loc[diabetes[\"Outcome\"] == 1, \"Insulin\"]\n",
    "\n",
    "plt.hist(H, alpha=0.5, label='gesund')\n",
    "plt.hist(D, alpha=0.5, label='erkrankt')\n",
    "plt.legend(title='Health')\n",
    "plt.title(\"Insulinverteilung\")\n",
    "plt.xlabel(\"Insulin μU/ml\")\n",
    "plt.ylabel(\"Anzahl Personen\")"
   ],
   "metadata": {
    "collapsed": false
   },
   "id": "d65dc8305d34240e"
  },
  {
   "cell_type": "markdown",
   "source": [
    "### Glucose"
   ],
   "metadata": {
    "collapsed": false
   },
   "id": "4f36515906d3f8d8"
  },
  {
   "cell_type": "code",
   "outputs": [],
   "source": [
    "H = diabetes.loc[diabetes[\"Outcome\"] == 0, \"Glucose\"]\n",
    "D = diabetes.loc[diabetes[\"Outcome\"] == 1, \"Glucose\"]\n",
    "plt.hist(H, alpha=0.5, label='gesund')\n",
    "plt.hist(D, alpha=0.5, label='erkrankt')\n",
    "\n",
    "plt.legend(title='Health', loc='best')\n",
    "plt.title(\"Glukoseverteilung\")\n",
    "plt.xlabel(\"Glukosekonzentration\")\n",
    "plt.ylabel(\"Anzahl Personen\")\n"
   ],
   "metadata": {
    "collapsed": false
   },
   "id": "1770cf5e24540bca"
  },
  {
   "cell_type": "markdown",
   "source": [
    "### SkinThickness"
   ],
   "metadata": {
    "collapsed": false
   },
   "id": "bad665049ab8d6e"
  },
  {
   "cell_type": "code",
   "outputs": [],
   "source": [
    "H = diabetes.loc[diabetes[\"Outcome\"] == 0, \"SkinThickness\"]\n",
    "D = diabetes.loc[diabetes[\"Outcome\"] == 1, \"SkinThickness\"]\n",
    "plt.hist(H, alpha=0.5, label='gesund')\n",
    "plt.hist(D, alpha=0.5, label='erkrankt')\n",
    "plt.legend(title='Health')\n",
    "plt.title(\"SkinThicknessverteilung\")\n",
    "plt.xlabel(\"Hautdicke in mm\")\n",
    "plt.ylabel(\"Anzahl Personen\")"
   ],
   "metadata": {
    "collapsed": false
   },
   "id": "a3bc20799b4e779"
  },
  {
   "cell_type": "markdown",
   "source": [
    "### Blood Pressure"
   ],
   "metadata": {
    "collapsed": false
   },
   "id": "7eacc95a1275ea48"
  },
  {
   "cell_type": "code",
   "outputs": [],
   "source": [
    "H = diabetes.loc[diabetes[\"Outcome\"] == 0, \"BloodPressure\"]\n",
    "D = diabetes.loc[diabetes[\"Outcome\"] == 1, \"BloodPressure\"]\n",
    "plt.hist(H, alpha=0.5, label='gesund')\n",
    "plt.hist(D, alpha=0.5, label='erkrankt')\n",
    "plt.legend(title='Health')\n",
    "plt.title(\"Blutdruckverteilung\")\n",
    "plt.xlabel(\"Blutdruck in mg Hg\")\n",
    "plt.ylabel(\"Anzahl Personen\")"
   ],
   "metadata": {
    "collapsed": false
   },
   "id": "1ae075e8fd18fc1"
  },
  {
   "cell_type": "markdown",
   "source": [
    "### BMI"
   ],
   "metadata": {
    "collapsed": false
   },
   "id": "43bdca3760d8829f"
  },
  {
   "cell_type": "code",
   "outputs": [],
   "source": [
    "H = diabetes.loc[diabetes[\"Outcome\"] == 0, \"BMI\"]\n",
    "D = diabetes.loc[diabetes[\"Outcome\"] == 1, \"BMI\"]\n",
    "plt.hist(H, alpha=0.5, label='gesund')\n",
    "plt.hist(D, alpha=0.5, label='erkrankt')\n",
    "plt.legend(title='Health')\n",
    "plt.title(\"BMI Verteilung\")\n",
    "plt.xlabel(\"BMI in kg/Körperhöhe in m^2\")\n",
    "plt.ylabel(\"Anzahl Personen\")"
   ],
   "metadata": {
    "collapsed": false
   },
   "id": "13a68dd8635169b4"
  },
  {
   "cell_type": "code",
   "outputs": [],
   "source": [
    "# change_value(\"Insulin\")\n",
    "# change_value(\"Glucose\")\n",
    "# change_value(\"SkinThickness\")\n",
    "# change_value(\"BloodPressure\")\n",
    "# change_value(\"BMI\")"
   ],
   "metadata": {
    "collapsed": false
   },
   "id": "ffcbff4c984c2753"
  },
  {
   "cell_type": "markdown",
   "source": [
    "## Multivariante Analyse"
   ],
   "metadata": {
    "collapsed": false
   },
   "id": "19c36ec3599d7d53"
  },
  {
   "cell_type": "code",
   "outputs": [
    {
     "data": {
      "text/plain": "<Figure size 1000x600 with 2 Axes>",
      "image/png": "[encoded data removed]"
     },
     "metadata": {},
     "output_type": "display_data"
    }
   ],
   "source": [
    "fig_dims = (10, 6)\n",
    "fig, ax = plt.subplots(figsize=fig_dims)\n",
    "sns.heatmap(diabetes.corr(),annot=True,ax=ax)\n",
    "plt.title(\"Heatmap Korrelationen zwischen den numerischen Variablen\",fontsize=12)\n",
    "plt.show()"
   ],
   "metadata": {
    "collapsed": false,
    "ExecuteTime": {
     "end_time": "2024-03-22T15:51:10.452460200Z",
     "start_time": "2024-03-22T15:51:09.872400700Z"
    }
   },
   "id": "93c38d8337801752",
   "execution_count": 252
  },
  {
   "cell_type": "markdown",
   "source": [
    "## ZUSAMMEN FASSUNG EDA TODO\n",
    "- \n",
    "- fdg\n",
    "- dfg\n",
    "- dg\n",
    "- "
   ],
   "metadata": {
    "collapsed": false
   },
   "id": "8e4a0c3ad86c3528"
  },
  {
   "cell_type": "markdown",
   "source": [
    "# Modellierung"
   ],
   "metadata": {
    "collapsed": false
   },
   "id": "43539fd808752717"
  },
  {
   "cell_type": "markdown",
   "source": [
    "### Logistic Regression"
   ],
   "metadata": {
    "collapsed": false
   },
   "id": "d1b49facbaa1b76f"
  },
  {
   "cell_type": "code",
   "outputs": [],
   "source": [
    "x = diabetes.drop(columns=['Outcome'], axis=1)\n",
    "y = diabetes['Outcome']\n",
    "X_train, X_test, y_train, y_test = train_test_split(x, y, test_size=0.3, random_state=43)"
   ],
   "metadata": {
    "collapsed": false,
    "ExecuteTime": {
     "end_time": "2024-03-22T15:51:10.468509Z",
     "start_time": "2024-03-22T15:51:10.457196400Z"
    }
   },
   "id": "d5959232bfec846a",
   "execution_count": 253
  },
  {
   "cell_type": "code",
   "outputs": [],
   "source": [
    "sc = StandardScaler()\n",
    "X_train = sc.fit_transform(X_train)\n",
    "X_test = sc.transform(X_test)"
   ],
   "metadata": {
    "collapsed": false,
    "ExecuteTime": {
     "end_time": "2024-03-22T15:51:10.561366700Z",
     "start_time": "2024-03-22T15:51:10.461381800Z"
    }
   },
   "id": "ce0468e6ff2c8a08",
   "execution_count": 254
  },
  {
   "cell_type": "code",
   "outputs": [
    {
     "ename": "ValueError",
     "evalue": "Input X contains NaN.\nLogisticRegression does not accept missing values encoded as NaN natively. For supervised learning, you might want to consider sklearn.ensemble.HistGradientBoostingClassifier and Regressor which accept missing values encoded as NaNs natively. Alternatively, it is possible to preprocess the data, for instance by using an imputer transformer in a pipeline or drop samples with missing values. See https://scikit-learn.org/stable/modules/impute.html You can find a list of all estimators that handle NaN values at the following page: https://scikit-learn.org/stable/modules/impute.html#estimators-that-handle-nan-values",
     "output_type": "error",
     "traceback": [
      "\u001B[1;31m---------------------------------------------------------------------------\u001B[0m",
      "\u001B[1;31mValueError\u001B[0m                                Traceback (most recent call last)",
      "Cell \u001B[1;32mIn[255], line 2\u001B[0m\n\u001B[0;32m      1\u001B[0m logreg \u001B[38;5;241m=\u001B[39m LogisticRegression()\n\u001B[1;32m----> 2\u001B[0m logreg\u001B[38;5;241m.\u001B[39mfit(X_train, y_train)\n\u001B[0;32m      3\u001B[0m \u001B[38;5;66;03m# Vorhersage für Testdaten\u001B[39;00m\n\u001B[0;32m      4\u001B[0m y_pred_lr \u001B[38;5;241m=\u001B[39m logreg\u001B[38;5;241m.\u001B[39mpredict(X_test)\n",
      "File \u001B[1;32m~\\anaconda3\\Lib\\site-packages\\sklearn\\base.py:1151\u001B[0m, in \u001B[0;36m_fit_context.<locals>.decorator.<locals>.wrapper\u001B[1;34m(estimator, *args, **kwargs)\u001B[0m\n\u001B[0;32m   1144\u001B[0m     estimator\u001B[38;5;241m.\u001B[39m_validate_params()\n\u001B[0;32m   1146\u001B[0m \u001B[38;5;28;01mwith\u001B[39;00m config_context(\n\u001B[0;32m   1147\u001B[0m     skip_parameter_validation\u001B[38;5;241m=\u001B[39m(\n\u001B[0;32m   1148\u001B[0m         prefer_skip_nested_validation \u001B[38;5;129;01mor\u001B[39;00m global_skip_validation\n\u001B[0;32m   1149\u001B[0m     )\n\u001B[0;32m   1150\u001B[0m ):\n\u001B[1;32m-> 1151\u001B[0m     \u001B[38;5;28;01mreturn\u001B[39;00m fit_method(estimator, \u001B[38;5;241m*\u001B[39margs, \u001B[38;5;241m*\u001B[39m\u001B[38;5;241m*\u001B[39mkwargs)\n",
      "File \u001B[1;32m~\\anaconda3\\Lib\\site-packages\\sklearn\\linear_model\\_logistic.py:1207\u001B[0m, in \u001B[0;36mLogisticRegression.fit\u001B[1;34m(self, X, y, sample_weight)\u001B[0m\n\u001B[0;32m   1204\u001B[0m \u001B[38;5;28;01melse\u001B[39;00m:\n\u001B[0;32m   1205\u001B[0m     _dtype \u001B[38;5;241m=\u001B[39m [np\u001B[38;5;241m.\u001B[39mfloat64, np\u001B[38;5;241m.\u001B[39mfloat32]\n\u001B[1;32m-> 1207\u001B[0m X, y \u001B[38;5;241m=\u001B[39m \u001B[38;5;28mself\u001B[39m\u001B[38;5;241m.\u001B[39m_validate_data(\n\u001B[0;32m   1208\u001B[0m     X,\n\u001B[0;32m   1209\u001B[0m     y,\n\u001B[0;32m   1210\u001B[0m     accept_sparse\u001B[38;5;241m=\u001B[39m\u001B[38;5;124m\"\u001B[39m\u001B[38;5;124mcsr\u001B[39m\u001B[38;5;124m\"\u001B[39m,\n\u001B[0;32m   1211\u001B[0m     dtype\u001B[38;5;241m=\u001B[39m_dtype,\n\u001B[0;32m   1212\u001B[0m     order\u001B[38;5;241m=\u001B[39m\u001B[38;5;124m\"\u001B[39m\u001B[38;5;124mC\u001B[39m\u001B[38;5;124m\"\u001B[39m,\n\u001B[0;32m   1213\u001B[0m     accept_large_sparse\u001B[38;5;241m=\u001B[39msolver \u001B[38;5;129;01mnot\u001B[39;00m \u001B[38;5;129;01min\u001B[39;00m [\u001B[38;5;124m\"\u001B[39m\u001B[38;5;124mliblinear\u001B[39m\u001B[38;5;124m\"\u001B[39m, \u001B[38;5;124m\"\u001B[39m\u001B[38;5;124msag\u001B[39m\u001B[38;5;124m\"\u001B[39m, \u001B[38;5;124m\"\u001B[39m\u001B[38;5;124msaga\u001B[39m\u001B[38;5;124m\"\u001B[39m],\n\u001B[0;32m   1214\u001B[0m )\n\u001B[0;32m   1215\u001B[0m check_classification_targets(y)\n\u001B[0;32m   1216\u001B[0m \u001B[38;5;28mself\u001B[39m\u001B[38;5;241m.\u001B[39mclasses_ \u001B[38;5;241m=\u001B[39m np\u001B[38;5;241m.\u001B[39munique(y)\n",
      "File \u001B[1;32m~\\anaconda3\\Lib\\site-packages\\sklearn\\base.py:621\u001B[0m, in \u001B[0;36mBaseEstimator._validate_data\u001B[1;34m(self, X, y, reset, validate_separately, cast_to_ndarray, **check_params)\u001B[0m\n\u001B[0;32m    619\u001B[0m         y \u001B[38;5;241m=\u001B[39m check_array(y, input_name\u001B[38;5;241m=\u001B[39m\u001B[38;5;124m\"\u001B[39m\u001B[38;5;124my\u001B[39m\u001B[38;5;124m\"\u001B[39m, \u001B[38;5;241m*\u001B[39m\u001B[38;5;241m*\u001B[39mcheck_y_params)\n\u001B[0;32m    620\u001B[0m     \u001B[38;5;28;01melse\u001B[39;00m:\n\u001B[1;32m--> 621\u001B[0m         X, y \u001B[38;5;241m=\u001B[39m check_X_y(X, y, \u001B[38;5;241m*\u001B[39m\u001B[38;5;241m*\u001B[39mcheck_params)\n\u001B[0;32m    622\u001B[0m     out \u001B[38;5;241m=\u001B[39m X, y\n\u001B[0;32m    624\u001B[0m \u001B[38;5;28;01mif\u001B[39;00m \u001B[38;5;129;01mnot\u001B[39;00m no_val_X \u001B[38;5;129;01mand\u001B[39;00m check_params\u001B[38;5;241m.\u001B[39mget(\u001B[38;5;124m\"\u001B[39m\u001B[38;5;124mensure_2d\u001B[39m\u001B[38;5;124m\"\u001B[39m, \u001B[38;5;28;01mTrue\u001B[39;00m):\n",
      "File \u001B[1;32m~\\anaconda3\\Lib\\site-packages\\sklearn\\utils\\validation.py:1147\u001B[0m, in \u001B[0;36mcheck_X_y\u001B[1;34m(X, y, accept_sparse, accept_large_sparse, dtype, order, copy, force_all_finite, ensure_2d, allow_nd, multi_output, ensure_min_samples, ensure_min_features, y_numeric, estimator)\u001B[0m\n\u001B[0;32m   1142\u001B[0m         estimator_name \u001B[38;5;241m=\u001B[39m _check_estimator_name(estimator)\n\u001B[0;32m   1143\u001B[0m     \u001B[38;5;28;01mraise\u001B[39;00m \u001B[38;5;167;01mValueError\u001B[39;00m(\n\u001B[0;32m   1144\u001B[0m         \u001B[38;5;124mf\u001B[39m\u001B[38;5;124m\"\u001B[39m\u001B[38;5;132;01m{\u001B[39;00mestimator_name\u001B[38;5;132;01m}\u001B[39;00m\u001B[38;5;124m requires y to be passed, but the target y is None\u001B[39m\u001B[38;5;124m\"\u001B[39m\n\u001B[0;32m   1145\u001B[0m     )\n\u001B[1;32m-> 1147\u001B[0m X \u001B[38;5;241m=\u001B[39m check_array(\n\u001B[0;32m   1148\u001B[0m     X,\n\u001B[0;32m   1149\u001B[0m     accept_sparse\u001B[38;5;241m=\u001B[39maccept_sparse,\n\u001B[0;32m   1150\u001B[0m     accept_large_sparse\u001B[38;5;241m=\u001B[39maccept_large_sparse,\n\u001B[0;32m   1151\u001B[0m     dtype\u001B[38;5;241m=\u001B[39mdtype,\n\u001B[0;32m   1152\u001B[0m     order\u001B[38;5;241m=\u001B[39morder,\n\u001B[0;32m   1153\u001B[0m     copy\u001B[38;5;241m=\u001B[39mcopy,\n\u001B[0;32m   1154\u001B[0m     force_all_finite\u001B[38;5;241m=\u001B[39mforce_all_finite,\n\u001B[0;32m   1155\u001B[0m     ensure_2d\u001B[38;5;241m=\u001B[39mensure_2d,\n\u001B[0;32m   1156\u001B[0m     allow_nd\u001B[38;5;241m=\u001B[39mallow_nd,\n\u001B[0;32m   1157\u001B[0m     ensure_min_samples\u001B[38;5;241m=\u001B[39mensure_min_samples,\n\u001B[0;32m   1158\u001B[0m     ensure_min_features\u001B[38;5;241m=\u001B[39mensure_min_features,\n\u001B[0;32m   1159\u001B[0m     estimator\u001B[38;5;241m=\u001B[39mestimator,\n\u001B[0;32m   1160\u001B[0m     input_name\u001B[38;5;241m=\u001B[39m\u001B[38;5;124m\"\u001B[39m\u001B[38;5;124mX\u001B[39m\u001B[38;5;124m\"\u001B[39m,\n\u001B[0;32m   1161\u001B[0m )\n\u001B[0;32m   1163\u001B[0m y \u001B[38;5;241m=\u001B[39m _check_y(y, multi_output\u001B[38;5;241m=\u001B[39mmulti_output, y_numeric\u001B[38;5;241m=\u001B[39my_numeric, estimator\u001B[38;5;241m=\u001B[39mestimator)\n\u001B[0;32m   1165\u001B[0m check_consistent_length(X, y)\n",
      "File \u001B[1;32m~\\anaconda3\\Lib\\site-packages\\sklearn\\utils\\validation.py:959\u001B[0m, in \u001B[0;36mcheck_array\u001B[1;34m(array, accept_sparse, accept_large_sparse, dtype, order, copy, force_all_finite, ensure_2d, allow_nd, ensure_min_samples, ensure_min_features, estimator, input_name)\u001B[0m\n\u001B[0;32m    953\u001B[0m         \u001B[38;5;28;01mraise\u001B[39;00m \u001B[38;5;167;01mValueError\u001B[39;00m(\n\u001B[0;32m    954\u001B[0m             \u001B[38;5;124m\"\u001B[39m\u001B[38;5;124mFound array with dim \u001B[39m\u001B[38;5;132;01m%d\u001B[39;00m\u001B[38;5;124m. \u001B[39m\u001B[38;5;132;01m%s\u001B[39;00m\u001B[38;5;124m expected <= 2.\u001B[39m\u001B[38;5;124m\"\u001B[39m\n\u001B[0;32m    955\u001B[0m             \u001B[38;5;241m%\u001B[39m (array\u001B[38;5;241m.\u001B[39mndim, estimator_name)\n\u001B[0;32m    956\u001B[0m         )\n\u001B[0;32m    958\u001B[0m     \u001B[38;5;28;01mif\u001B[39;00m force_all_finite:\n\u001B[1;32m--> 959\u001B[0m         _assert_all_finite(\n\u001B[0;32m    960\u001B[0m             array,\n\u001B[0;32m    961\u001B[0m             input_name\u001B[38;5;241m=\u001B[39minput_name,\n\u001B[0;32m    962\u001B[0m             estimator_name\u001B[38;5;241m=\u001B[39mestimator_name,\n\u001B[0;32m    963\u001B[0m             allow_nan\u001B[38;5;241m=\u001B[39mforce_all_finite \u001B[38;5;241m==\u001B[39m \u001B[38;5;124m\"\u001B[39m\u001B[38;5;124mallow-nan\u001B[39m\u001B[38;5;124m\"\u001B[39m,\n\u001B[0;32m    964\u001B[0m         )\n\u001B[0;32m    966\u001B[0m \u001B[38;5;28;01mif\u001B[39;00m ensure_min_samples \u001B[38;5;241m>\u001B[39m \u001B[38;5;241m0\u001B[39m:\n\u001B[0;32m    967\u001B[0m     n_samples \u001B[38;5;241m=\u001B[39m _num_samples(array)\n",
      "File \u001B[1;32m~\\anaconda3\\Lib\\site-packages\\sklearn\\utils\\validation.py:124\u001B[0m, in \u001B[0;36m_assert_all_finite\u001B[1;34m(X, allow_nan, msg_dtype, estimator_name, input_name)\u001B[0m\n\u001B[0;32m    121\u001B[0m \u001B[38;5;28;01mif\u001B[39;00m first_pass_isfinite:\n\u001B[0;32m    122\u001B[0m     \u001B[38;5;28;01mreturn\u001B[39;00m\n\u001B[1;32m--> 124\u001B[0m _assert_all_finite_element_wise(\n\u001B[0;32m    125\u001B[0m     X,\n\u001B[0;32m    126\u001B[0m     xp\u001B[38;5;241m=\u001B[39mxp,\n\u001B[0;32m    127\u001B[0m     allow_nan\u001B[38;5;241m=\u001B[39mallow_nan,\n\u001B[0;32m    128\u001B[0m     msg_dtype\u001B[38;5;241m=\u001B[39mmsg_dtype,\n\u001B[0;32m    129\u001B[0m     estimator_name\u001B[38;5;241m=\u001B[39mestimator_name,\n\u001B[0;32m    130\u001B[0m     input_name\u001B[38;5;241m=\u001B[39minput_name,\n\u001B[0;32m    131\u001B[0m )\n",
      "File \u001B[1;32m~\\anaconda3\\Lib\\site-packages\\sklearn\\utils\\validation.py:173\u001B[0m, in \u001B[0;36m_assert_all_finite_element_wise\u001B[1;34m(X, xp, allow_nan, msg_dtype, estimator_name, input_name)\u001B[0m\n\u001B[0;32m    156\u001B[0m \u001B[38;5;28;01mif\u001B[39;00m estimator_name \u001B[38;5;129;01mand\u001B[39;00m input_name \u001B[38;5;241m==\u001B[39m \u001B[38;5;124m\"\u001B[39m\u001B[38;5;124mX\u001B[39m\u001B[38;5;124m\"\u001B[39m \u001B[38;5;129;01mand\u001B[39;00m has_nan_error:\n\u001B[0;32m    157\u001B[0m     \u001B[38;5;66;03m# Improve the error message on how to handle missing values in\u001B[39;00m\n\u001B[0;32m    158\u001B[0m     \u001B[38;5;66;03m# scikit-learn.\u001B[39;00m\n\u001B[0;32m    159\u001B[0m     msg_err \u001B[38;5;241m+\u001B[39m\u001B[38;5;241m=\u001B[39m (\n\u001B[0;32m    160\u001B[0m         \u001B[38;5;124mf\u001B[39m\u001B[38;5;124m\"\u001B[39m\u001B[38;5;130;01m\\n\u001B[39;00m\u001B[38;5;132;01m{\u001B[39;00mestimator_name\u001B[38;5;132;01m}\u001B[39;00m\u001B[38;5;124m does not accept missing values\u001B[39m\u001B[38;5;124m\"\u001B[39m\n\u001B[0;32m    161\u001B[0m         \u001B[38;5;124m\"\u001B[39m\u001B[38;5;124m encoded as NaN natively. For supervised learning, you might want\u001B[39m\u001B[38;5;124m\"\u001B[39m\n\u001B[1;32m   (...)\u001B[0m\n\u001B[0;32m    171\u001B[0m         \u001B[38;5;124m\"\u001B[39m\u001B[38;5;124m#estimators-that-handle-nan-values\u001B[39m\u001B[38;5;124m\"\u001B[39m\n\u001B[0;32m    172\u001B[0m     )\n\u001B[1;32m--> 173\u001B[0m \u001B[38;5;28;01mraise\u001B[39;00m \u001B[38;5;167;01mValueError\u001B[39;00m(msg_err)\n",
      "\u001B[1;31mValueError\u001B[0m: Input X contains NaN.\nLogisticRegression does not accept missing values encoded as NaN natively. For supervised learning, you might want to consider sklearn.ensemble.HistGradientBoostingClassifier and Regressor which accept missing values encoded as NaNs natively. Alternatively, it is possible to preprocess the data, for instance by using an imputer transformer in a pipeline or drop samples with missing values. See https://scikit-learn.org/stable/modules/impute.html You can find a list of all estimators that handle NaN values at the following page: https://scikit-learn.org/stable/modules/impute.html#estimators-that-handle-nan-values"
     ]
    }
   ],
   "source": [
    "logreg = LogisticRegression()\n",
    "logreg.fit(X_train, y_train)\n",
    "# Vorhersage für Testdaten\n",
    "y_pred_lr = logreg.predict(X_test)\n",
    "print('Accuracy of logistic regression classifier on test set: {}'.format(logreg.score(X_test, y_test)))"
   ],
   "metadata": {
    "collapsed": false,
    "ExecuteTime": {
     "end_time": "2024-03-22T15:51:10.580915700Z",
     "start_time": "2024-03-22T15:51:10.479002900Z"
    }
   },
   "id": "efb5363e2d848a86",
   "execution_count": 255
  },
  {
   "cell_type": "markdown",
   "source": [
    "### Evaluation des Models"
   ],
   "metadata": {
    "collapsed": false
   },
   "id": "ab87c238d24f6b2a"
  },
  {
   "cell_type": "code",
   "outputs": [],
   "source": [
    "cflr = confusion_matrix(y_test,y_pred_lr)\n",
    "pd.crosstab(y_test, y_pred_lr, rownames=['True'], colnames=['Predicted'], margins=True)"
   ],
   "metadata": {
    "collapsed": false,
    "ExecuteTime": {
     "start_time": "2024-03-22T15:51:10.571918600Z"
    }
   },
   "id": "835a97b700a19eff",
   "execution_count": null
  },
  {
   "cell_type": "markdown",
   "source": [
    "**Classification Report**\n",
    "\n",
    "1. Precision (Präzision):\n",
    "Der Anteil der wahren positiven Vorhersagen unter allen positiven Vorhersagen.\n",
    "Precision = TP / (TP + FP)\n",
    "\n",
    "2. Recall (Rückruf):\n",
    "Der Anteil der wahren positiven Vorhersagen unter allen tatsächlichen positiven Instanzen.\n",
    "Recall = TP / (TP + FN)\n",
    "\n",
    "3. F1-Score:\n",
    "Das harmonische Mittel aus Precision und Recall.\n",
    "F1-Score = 2 * (Precision * Recall) / (Precision + Recall)\n",
    "\n",
    "4. Support:\n",
    "Die Anzahl der tatsächlichen Instanzen für jede Klasse.\n",
    "\n",
    "5. Accuracy (Genauigkeit):\n",
    "Der Anteil der korrekten Vorhersagen insgesamt.\n",
    "Accuracy = (TP + TN) / (TP + TN + FP + FN)\n",
    "\n",
    "6. Macro AVG (Makro-Durchschnitt):\n",
    "Der Durchschnitt der Metriken für jede Klasse, ohne dabei die Klassenhäufigkeiten zu berücksichtigen.\n",
    "\n",
    "7. Weighted AVG (Gewichteter Durchschnitt):\n",
    "Der gewichtete Durchschnitt der Metriken für jede Klasse, wobei die Klassenhäufigkeiten berücksichtigt werden."
   ],
   "metadata": {
    "collapsed": false
   },
   "id": "23c8da4fe3bcb86c"
  },
  {
   "cell_type": "code",
   "outputs": [],
   "source": [
    "print(classification_report(y_test,y_pred_lr))"
   ],
   "metadata": {
    "collapsed": false,
    "ExecuteTime": {
     "start_time": "2024-03-22T15:51:10.573917700Z"
    }
   },
   "id": "357e9103dd939775",
   "execution_count": null
  },
  {
   "cell_type": "markdown",
   "source": [
    "**AUC-ROC (Area Under the ROC Curve):** Die Fläche unter der ROC-Kurve. Eine AUC von 1,0 bedeutet perfekte Vorhersagen, während eine AUC von 0,5 auf eine zufällige Vorhersage hinweist."
   ],
   "metadata": {
    "collapsed": false
   },
   "id": "2cd911c0717db5b7"
  },
  {
   "cell_type": "code",
   "outputs": [],
   "source": [
    "y_pred_proba = logreg.predict_proba(X_test)[:,1]\n",
    "fpr, tpr, thresholds = roc_curve(y_test, y_pred_proba)\n",
    "plt.plot([0,1],[0,1],'k--')\n",
    "plt.plot(fpr,tpr, label='Logistic Regression')\n",
    "plt.xlabel('false positive rate')\n",
    "plt.ylabel('true positive rate')\n",
    "plt.title('ROC curve')\n",
    "plt.show()"
   ],
   "metadata": {
    "collapsed": false,
    "ExecuteTime": {
     "start_time": "2024-03-22T15:51:10.575918200Z"
    }
   },
   "id": "e54105b759bb28c7",
   "execution_count": null
  },
  {
   "cell_type": "code",
   "outputs": [],
   "source": [
    "print(\"ROC Accuracy: {}\".format(roc_auc_score(y_test,y_pred_proba)))"
   ],
   "metadata": {
    "collapsed": false,
    "ExecuteTime": {
     "start_time": "2024-03-22T15:51:10.577916Z"
    }
   },
   "id": "cfdfb27ab5785f4",
   "execution_count": null
  },
  {
   "cell_type": "markdown",
   "source": [
    "## Random Forrest"
   ],
   "metadata": {
    "collapsed": false
   },
   "id": "e4a7b017381d57e5"
  },
  {
   "cell_type": "code",
   "outputs": [],
   "source": [
    "model = RandomForestClassifier(n_estimators=20, criterion = 'gini', bootstrap = True, random_state=100)\n",
    "model.fit(X_train, y_train)"
   ],
   "metadata": {
    "collapsed": false,
    "ExecuteTime": {
     "end_time": "2024-03-22T15:51:10.600955500Z",
     "start_time": "2024-03-22T15:51:10.580915700Z"
    }
   },
   "id": "722d5e27ca3acd7b",
   "execution_count": null
  },
  {
   "cell_type": "code",
   "outputs": [],
   "source": [
    "y_pred_rf = model.predict(X_test)"
   ],
   "metadata": {
    "collapsed": false,
    "ExecuteTime": {
     "start_time": "2024-03-22T15:51:10.582916Z"
    }
   },
   "id": "add26aef634d8493",
   "execution_count": null
  },
  {
   "cell_type": "code",
   "outputs": [],
   "source": [
    "cfrf=confusion_matrix(y_test,y_pred_rf)\n",
    "pd.crosstab(y_test, y_pred_rf, rownames=['True'], colnames=['Predicted'], margins=True)"
   ],
   "metadata": {
    "collapsed": false,
    "ExecuteTime": {
     "start_time": "2024-03-22T15:51:10.584916900Z"
    }
   },
   "id": "c25314f40b9c809f",
   "execution_count": null
  },
  {
   "cell_type": "code",
   "outputs": [],
   "source": [
    "plt.figure(figsize=(6, 6))\n",
    "x_axis_labels = ['diabetes', 'gesund'] # labels for x-axis\n",
    "y_axis_labels = ['diabetes', 'gesund'] # labels for y-axis\n",
    "sns.heatmap(cfrf, annot=True, xticklabels=x_axis_labels, yticklabels=y_axis_labels, fmt=\".2f\", cmap='coolwarm')\n",
    "plt.title(\"Confusion matrix heatmap\", fontsize=16)\n",
    "plt.show()"
   ],
   "metadata": {
    "collapsed": false,
    "ExecuteTime": {
     "start_time": "2024-03-22T15:51:10.586917800Z"
    }
   },
   "id": "884e258ebd30cea1",
   "execution_count": null
  },
  {
   "cell_type": "code",
   "outputs": [],
   "source": [
    "print(classification_report(y_test,y_pred_rf))"
   ],
   "metadata": {
    "collapsed": false,
    "ExecuteTime": {
     "start_time": "2024-03-22T15:51:10.587916400Z"
    }
   },
   "id": "ae4feeedfcc9e1a",
   "execution_count": null
  },
  {
   "cell_type": "code",
   "outputs": [],
   "source": [
    "fi_df = pd.DataFrame({\n",
    "    \"feature_importances\" : model.feature_importances_,\n",
    "    \"features\" : x.columns\n",
    "})\n",
    "\n",
    "fi_df.sort_values(by=\"feature_importances\", ascending=False, inplace=True)\n",
    "\n",
    "plt.figure(figsize=(8,6))\n",
    "sns.barplot(x=\"feature_importances\", y=\"features\", data=fi_df)\n",
    "plt.show()"
   ],
   "metadata": {
    "collapsed": false,
    "ExecuteTime": {
     "start_time": "2024-03-22T15:51:10.590932300Z"
    }
   },
   "id": "6cf9bbf4508c3b25",
   "execution_count": null
  },
  {
   "cell_type": "markdown",
   "source": [
    "## kNN"
   ],
   "metadata": {
    "collapsed": false
   },
   "id": "1a2f54611a7e5914"
  },
  {
   "cell_type": "code",
   "outputs": [],
   "source": [
    "weights = 'distance'\n",
    "n_neighbors = 9\n",
    "clf = neighbors.KNeighborsClassifier(n_neighbors, weights=weights)\n",
    "clf.fit(X_train, y_train)\n"
   ],
   "metadata": {
    "collapsed": false,
    "ExecuteTime": {
     "start_time": "2024-03-22T15:51:10.591922400Z"
    }
   },
   "id": "de2ca4b3091a49ee",
   "execution_count": null
  },
  {
   "cell_type": "code",
   "outputs": [],
   "source": [
    "y_pred_knn = clf.predict(X_test)\n",
    "\n",
    "cfknn=confusion_matrix(y_test,y_pred_knn)\n",
    "pd.crosstab(y_test, y_pred_knn, rownames=['True'], colnames=['Predicted'], margins=True)"
   ],
   "metadata": {
    "collapsed": false,
    "ExecuteTime": {
     "start_time": "2024-03-22T15:51:10.592922300Z"
    }
   },
   "id": "6b6e416817ecae9e",
   "execution_count": null
  },
  {
   "cell_type": "code",
   "outputs": [],
   "source": [
    "print(classification_report(y_test,y_pred_knn))"
   ],
   "metadata": {
    "collapsed": false,
    "ExecuteTime": {
     "start_time": "2024-03-22T15:51:10.593921800Z"
    }
   },
   "id": "4ddde1abbb044374",
   "execution_count": null
  },
  {
   "cell_type": "markdown",
   "source": [
    "## VERGLEICH DER MODELLE"
   ],
   "metadata": {
    "collapsed": false
   },
   "id": "6d71eb2846f1e81"
  },
  {
   "cell_type": "code",
   "outputs": [],
   "source": [
    "recall_LR = cflr[0,0]\n",
    "recall_RF = cfrf[0,0]\n",
    "recall_kNN = cfknn[0,0]\n",
    "precision_LR = cflr[1,1]\n",
    "precision_RF = cfrf[1,1]\n",
    "precision_kNN = cfknn[1,1]\n",
    "\n",
    "werte = [recall_LR, recall_RF, recall_kNN,precision_LR, precision_RF,precision_kNN]\n",
    "farben = ['red', 'red', 'red',  'lightgreen', 'lightgreen','lightgreen']\n",
    "bars = plt.bar(range(len(werte)), werte, color = farben)\n",
    "\n",
    "kategorien = ['Gesund LR', 'Gesund RF','Gesund kNN', 'Diabetes LR','Diabetes RF', 'Diabetes kNN']\n",
    "plt.xticks(range(len(werte)), kategorien)\n",
    "\n",
    "for bar, wert in zip(bars, werte):\n",
    "    plt.annotate(str(wert), xy=(bar.get_x() + bar.get_width() / 2, bar.get_height()), xytext=(0, -15),\n",
    "             textcoords='offset points', ha='center', va='bottom', color='black')\n",
    "\n",
    "textblock = '''\n",
    "Realität: 152 Gesund, \n",
    "79 Krank\n",
    "'''\n",
    "\n",
    "plt.text(4, 90, textblock, ha='center', va='center', bbox=dict(facecolor='lightgray', alpha=0.5))"
   ],
   "metadata": {
    "collapsed": false,
    "ExecuteTime": {
     "start_time": "2024-03-22T15:51:10.594921800Z"
    }
   },
   "id": "18f3bc6cfd9835ec",
   "execution_count": null
  },
  {
   "cell_type": "code",
   "outputs": [],
   "source": [],
   "metadata": {
    "collapsed": false,
    "ExecuteTime": {
     "start_time": "2024-03-22T15:51:10.595922500Z"
    }
   },
   "id": "9e66022aabe44a95",
   "execution_count": null
  }
 ],
 "metadata": {
  "kernelspec": {
   "display_name": "Python 3",
   "language": "python",
   "name": "python3"
  },
  "language_info": {
   "codemirror_mode": {
    "name": "ipython",
    "version": 2
   },
   "file_extension": ".py",
   "mimetype": "text/x-python",
   "name": "python",
   "nbconvert_exporter": "python",
   "pygments_lexer": "ipython2",
   "version": "2.7.6"
  }
 },
 "nbformat": 4,
 "nbformat_minor": 5
}
